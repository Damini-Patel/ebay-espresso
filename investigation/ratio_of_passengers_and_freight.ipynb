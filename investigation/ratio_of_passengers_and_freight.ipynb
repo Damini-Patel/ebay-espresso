{
 "metadata": {
  "language_info": {
   "codemirror_mode": {
    "name": "ipython",
    "version": 3
   },
   "file_extension": ".py",
   "mimetype": "text/x-python",
   "name": "python",
   "nbconvert_exporter": "python",
   "pygments_lexer": "ipython3",
   "version": "3.6.10-final"
  },
  "orig_nbformat": 2,
  "kernelspec": {
   "name": "python361032bitpythondatacondaa2e6358de8ee425e974b5dced503850d",
   "display_name": "Python 3.6.10 32-bit ('PythonData': conda)",
   "language": "python"
  }
 },
 "nbformat": 4,
 "nbformat_minor": 2,
 "cells": [
  {
   "cell_type": "code",
   "execution_count": 1,
   "metadata": {},
   "outputs": [],
   "source": [
    "# Import Modules\n",
    "import matplotlib.pyplot as plt\n",
    "import pandas as pd\n",
    "import scipy.stats as sts\n",
    "import numpy as np"
   ]
  },
  {
   "cell_type": "code",
   "execution_count": 2,
   "metadata": {},
   "outputs": [
    {
     "output_type": "execute_result",
     "data": {
      "text/plain": [
       "   year month  passengers_in  passengers_out  passengers_total  freight_in  \\\n",
       "0  2009   Jan        1223646         1025778           2249424    25791781   \n",
       "1  2009   Feb         969607          823540           1793147    27184874   \n",
       "2  2009   Mar         937697          933843           1871540    31509322   \n",
       "3  2009   Apr         971404         1004204           1975608    28921311   \n",
       "4  2009   May         842073          922435           1764508    31179480   \n",
       "\n",
       "   freight_out  freight_total  mail_in  mail_out  ...  flights_total  \\\n",
       "0     26785552       52577333  1744015   1013329  ...          11811   \n",
       "1     27304789       54489663  1594689    909102  ...          10177   \n",
       "2     29527013       61036335  1713906   1052860  ...          11159   \n",
       "3     26224702       55146013  1710087    890318  ...          10951   \n",
       "4     24396268       55575748  1870405    961951  ...          10914   \n",
       "\n",
       "   passengers_incl_transit_in  passengers_incl_transit_out  \\\n",
       "0                     1244404                      1045681   \n",
       "1                      989205                       842937   \n",
       "2                      955905                       952070   \n",
       "3                      986957                      1019694   \n",
       "4                      855367                       935498   \n",
       "\n",
       "   passengers_incl_transit_total  available_seats_in  available_seats_out  \\\n",
       "0                        2290085             1457769              1457446   \n",
       "1                        1832142             1257714              1255734   \n",
       "2                        1907975             1370622              1372128   \n",
       "3                        2006651             1341715              1340952   \n",
       "4                        1790865             1341071              1342106   \n",
       "\n",
       "   available_seats_total  seat_utilisation_in  seat_utilisation_out  \\\n",
       "0                2915215            85.363593             71.747495   \n",
       "1                2513448            78.651029             67.127035   \n",
       "2                2742750            69.742424             69.386384   \n",
       "3                2682667            73.559362             76.042543   \n",
       "4                2683177            63.782380             69.703734   \n",
       "\n",
       "   seat_utilisation_total  \n",
       "0               78.556299  \n",
       "1               72.893571  \n",
       "2               69.564306  \n",
       "3               74.800600  \n",
       "4               66.744199  \n",
       "\n",
       "[5 rows x 26 columns]"
      ],
      "text/html": "<div>\n<style scoped>\n    .dataframe tbody tr th:only-of-type {\n        vertical-align: middle;\n    }\n\n    .dataframe tbody tr th {\n        vertical-align: top;\n    }\n\n    .dataframe thead th {\n        text-align: right;\n    }\n</style>\n<table border=\"1\" class=\"dataframe\">\n  <thead>\n    <tr style=\"text-align: right;\">\n      <th></th>\n      <th>year</th>\n      <th>month</th>\n      <th>passengers_in</th>\n      <th>passengers_out</th>\n      <th>passengers_total</th>\n      <th>freight_in</th>\n      <th>freight_out</th>\n      <th>freight_total</th>\n      <th>mail_in</th>\n      <th>mail_out</th>\n      <th>...</th>\n      <th>flights_total</th>\n      <th>passengers_incl_transit_in</th>\n      <th>passengers_incl_transit_out</th>\n      <th>passengers_incl_transit_total</th>\n      <th>available_seats_in</th>\n      <th>available_seats_out</th>\n      <th>available_seats_total</th>\n      <th>seat_utilisation_in</th>\n      <th>seat_utilisation_out</th>\n      <th>seat_utilisation_total</th>\n    </tr>\n  </thead>\n  <tbody>\n    <tr>\n      <th>0</th>\n      <td>2009</td>\n      <td>Jan</td>\n      <td>1223646</td>\n      <td>1025778</td>\n      <td>2249424</td>\n      <td>25791781</td>\n      <td>26785552</td>\n      <td>52577333</td>\n      <td>1744015</td>\n      <td>1013329</td>\n      <td>...</td>\n      <td>11811</td>\n      <td>1244404</td>\n      <td>1045681</td>\n      <td>2290085</td>\n      <td>1457769</td>\n      <td>1457446</td>\n      <td>2915215</td>\n      <td>85.363593</td>\n      <td>71.747495</td>\n      <td>78.556299</td>\n    </tr>\n    <tr>\n      <th>1</th>\n      <td>2009</td>\n      <td>Feb</td>\n      <td>969607</td>\n      <td>823540</td>\n      <td>1793147</td>\n      <td>27184874</td>\n      <td>27304789</td>\n      <td>54489663</td>\n      <td>1594689</td>\n      <td>909102</td>\n      <td>...</td>\n      <td>10177</td>\n      <td>989205</td>\n      <td>842937</td>\n      <td>1832142</td>\n      <td>1257714</td>\n      <td>1255734</td>\n      <td>2513448</td>\n      <td>78.651029</td>\n      <td>67.127035</td>\n      <td>72.893571</td>\n    </tr>\n    <tr>\n      <th>2</th>\n      <td>2009</td>\n      <td>Mar</td>\n      <td>937697</td>\n      <td>933843</td>\n      <td>1871540</td>\n      <td>31509322</td>\n      <td>29527013</td>\n      <td>61036335</td>\n      <td>1713906</td>\n      <td>1052860</td>\n      <td>...</td>\n      <td>11159</td>\n      <td>955905</td>\n      <td>952070</td>\n      <td>1907975</td>\n      <td>1370622</td>\n      <td>1372128</td>\n      <td>2742750</td>\n      <td>69.742424</td>\n      <td>69.386384</td>\n      <td>69.564306</td>\n    </tr>\n    <tr>\n      <th>3</th>\n      <td>2009</td>\n      <td>Apr</td>\n      <td>971404</td>\n      <td>1004204</td>\n      <td>1975608</td>\n      <td>28921311</td>\n      <td>26224702</td>\n      <td>55146013</td>\n      <td>1710087</td>\n      <td>890318</td>\n      <td>...</td>\n      <td>10951</td>\n      <td>986957</td>\n      <td>1019694</td>\n      <td>2006651</td>\n      <td>1341715</td>\n      <td>1340952</td>\n      <td>2682667</td>\n      <td>73.559362</td>\n      <td>76.042543</td>\n      <td>74.800600</td>\n    </tr>\n    <tr>\n      <th>4</th>\n      <td>2009</td>\n      <td>May</td>\n      <td>842073</td>\n      <td>922435</td>\n      <td>1764508</td>\n      <td>31179480</td>\n      <td>24396268</td>\n      <td>55575748</td>\n      <td>1870405</td>\n      <td>961951</td>\n      <td>...</td>\n      <td>10914</td>\n      <td>855367</td>\n      <td>935498</td>\n      <td>1790865</td>\n      <td>1341071</td>\n      <td>1342106</td>\n      <td>2683177</td>\n      <td>63.782380</td>\n      <td>69.703734</td>\n      <td>66.744199</td>\n    </tr>\n  </tbody>\n</table>\n<p>5 rows × 26 columns</p>\n</div>"
     },
     "metadata": {},
     "execution_count": 2
    }
   ],
   "source": [
    "# Load data\n",
    "ittfaFile = \"../resources/ittfa_2009-2020.csv\"\n",
    "ittfa_df = pd.read_csv(ittfaFile)\n",
    "ittfa_df.head()"
   ]
  },
  {
   "cell_type": "code",
   "execution_count": 9,
   "metadata": {},
   "outputs": [
    {
     "output_type": "execute_result",
     "data": {
      "text/plain": [
       "   year month  passengers_incl_transit_total  freight_total  mail_total  \\\n",
       "0  2009   Jan                        2290085       52577333     2757344   \n",
       "1  2009   Feb                        1832142       54489663     2503791   \n",
       "2  2009   Mar                        1907975       61036335     2766766   \n",
       "3  2009   Apr                        2006651       55146013     2600405   \n",
       "4  2009   May                        1790865       55575748     2832356   \n",
       "\n",
       "   flights_total  \n",
       "0          11811  \n",
       "1          10177  \n",
       "2          11159  \n",
       "3          10951  \n",
       "4          10914  "
      ],
      "text/html": "<div>\n<style scoped>\n    .dataframe tbody tr th:only-of-type {\n        vertical-align: middle;\n    }\n\n    .dataframe tbody tr th {\n        vertical-align: top;\n    }\n\n    .dataframe thead th {\n        text-align: right;\n    }\n</style>\n<table border=\"1\" class=\"dataframe\">\n  <thead>\n    <tr style=\"text-align: right;\">\n      <th></th>\n      <th>year</th>\n      <th>month</th>\n      <th>passengers_incl_transit_total</th>\n      <th>freight_total</th>\n      <th>mail_total</th>\n      <th>flights_total</th>\n    </tr>\n  </thead>\n  <tbody>\n    <tr>\n      <th>0</th>\n      <td>2009</td>\n      <td>Jan</td>\n      <td>2290085</td>\n      <td>52577333</td>\n      <td>2757344</td>\n      <td>11811</td>\n    </tr>\n    <tr>\n      <th>1</th>\n      <td>2009</td>\n      <td>Feb</td>\n      <td>1832142</td>\n      <td>54489663</td>\n      <td>2503791</td>\n      <td>10177</td>\n    </tr>\n    <tr>\n      <th>2</th>\n      <td>2009</td>\n      <td>Mar</td>\n      <td>1907975</td>\n      <td>61036335</td>\n      <td>2766766</td>\n      <td>11159</td>\n    </tr>\n    <tr>\n      <th>3</th>\n      <td>2009</td>\n      <td>Apr</td>\n      <td>2006651</td>\n      <td>55146013</td>\n      <td>2600405</td>\n      <td>10951</td>\n    </tr>\n    <tr>\n      <th>4</th>\n      <td>2009</td>\n      <td>May</td>\n      <td>1790865</td>\n      <td>55575748</td>\n      <td>2832356</td>\n      <td>10914</td>\n    </tr>\n  </tbody>\n</table>\n</div>"
     },
     "metadata": {},
     "execution_count": 9
    }
   ],
   "source": [
    "ratioData = ittfa_df[['year','month','passengers_incl_transit_total','freight_total','mail_total','flights_total']]\n",
    "ratioData.head()"
   ]
  },
  {
   "cell_type": "code",
   "execution_count": 14,
   "metadata": {},
   "outputs": [
    {
     "output_type": "execute_result",
     "data": {
      "text/plain": [
       "   year month  passengers_incl_transit_total  freight_total  mail_total  \\\n",
       "0  2009   Jan                        2290085       52577333     2757344   \n",
       "1  2009   Feb                        1832142       54489663     2503791   \n",
       "2  2009   Mar                        1907975       61036335     2766766   \n",
       "3  2009   Apr                        2006651       55146013     2600405   \n",
       "4  2009   May                        1790865       55575748     2832356   \n",
       "\n",
       "   flights_total  passengers_per_flight  freight_per_flight  mail_per_flight  \n",
       "0          11811             193.894251         4451.556430       233.455592  \n",
       "1          10177             180.027710         5354.197013       246.024467  \n",
       "2          11159             170.980823         5469.695761       247.940317  \n",
       "3          10951             183.239065         5035.705689       237.458223  \n",
       "4          10914             164.088785         5092.152098       259.515851  "
      ],
      "text/html": "<div>\n<style scoped>\n    .dataframe tbody tr th:only-of-type {\n        vertical-align: middle;\n    }\n\n    .dataframe tbody tr th {\n        vertical-align: top;\n    }\n\n    .dataframe thead th {\n        text-align: right;\n    }\n</style>\n<table border=\"1\" class=\"dataframe\">\n  <thead>\n    <tr style=\"text-align: right;\">\n      <th></th>\n      <th>year</th>\n      <th>month</th>\n      <th>passengers_incl_transit_total</th>\n      <th>freight_total</th>\n      <th>mail_total</th>\n      <th>flights_total</th>\n      <th>passengers_per_flight</th>\n      <th>freight_per_flight</th>\n      <th>mail_per_flight</th>\n    </tr>\n  </thead>\n  <tbody>\n    <tr>\n      <th>0</th>\n      <td>2009</td>\n      <td>Jan</td>\n      <td>2290085</td>\n      <td>52577333</td>\n      <td>2757344</td>\n      <td>11811</td>\n      <td>193.894251</td>\n      <td>4451.556430</td>\n      <td>233.455592</td>\n    </tr>\n    <tr>\n      <th>1</th>\n      <td>2009</td>\n      <td>Feb</td>\n      <td>1832142</td>\n      <td>54489663</td>\n      <td>2503791</td>\n      <td>10177</td>\n      <td>180.027710</td>\n      <td>5354.197013</td>\n      <td>246.024467</td>\n    </tr>\n    <tr>\n      <th>2</th>\n      <td>2009</td>\n      <td>Mar</td>\n      <td>1907975</td>\n      <td>61036335</td>\n      <td>2766766</td>\n      <td>11159</td>\n      <td>170.980823</td>\n      <td>5469.695761</td>\n      <td>247.940317</td>\n    </tr>\n    <tr>\n      <th>3</th>\n      <td>2009</td>\n      <td>Apr</td>\n      <td>2006651</td>\n      <td>55146013</td>\n      <td>2600405</td>\n      <td>10951</td>\n      <td>183.239065</td>\n      <td>5035.705689</td>\n      <td>237.458223</td>\n    </tr>\n    <tr>\n      <th>4</th>\n      <td>2009</td>\n      <td>May</td>\n      <td>1790865</td>\n      <td>55575748</td>\n      <td>2832356</td>\n      <td>10914</td>\n      <td>164.088785</td>\n      <td>5092.152098</td>\n      <td>259.515851</td>\n    </tr>\n  </tbody>\n</table>\n</div>"
     },
     "metadata": {},
     "execution_count": 14
    }
   ],
   "source": [
    "ratioData['passengers_per_flight'] = ratioData.passengers_incl_transit_total / ratioData.flights_total\n",
    "ratioData['freight_per_flight'] = ratioData.freight_total / ratioData.flights_total\n",
    "ratioData['mail_per_flight'] = ratioData.mail_total / ratioData.flights_total\n",
    "ratioData.head()"
   ]
  },
  {
   "cell_type": "code",
   "execution_count": null,
   "metadata": {},
   "outputs": [],
   "source": []
  }
 ]
}