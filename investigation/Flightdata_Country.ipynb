{
 "cells": [
  {
   "cell_type": "code",
   "execution_count": 1,
   "metadata": {},
   "outputs": [],
   "source": [
    "# Dependencies and Setup\n",
    "import matplotlib.pyplot as plt\n",
    "import pandas as pd\n",
    "import scipy.stats as st\n",
    "import numpy as np\n",
    "import seaborn as sns"
   ]
  },
  {
   "cell_type": "code",
   "execution_count": 2,
   "metadata": {},
   "outputs": [
    {
     "data": {
      "text/html": [
       "<div>\n",
       "<style scoped>\n",
       "    .dataframe tbody tr th:only-of-type {\n",
       "        vertical-align: middle;\n",
       "    }\n",
       "\n",
       "    .dataframe tbody tr th {\n",
       "        vertical-align: top;\n",
       "    }\n",
       "\n",
       "    .dataframe thead th {\n",
       "        text-align: right;\n",
       "    }\n",
       "</style>\n",
       "<table border=\"1\" class=\"dataframe\">\n",
       "  <thead>\n",
       "    <tr style=\"text-align: right;\">\n",
       "      <th></th>\n",
       "      <th>Month</th>\n",
       "      <th>Country to/from</th>\n",
       "      <th>Passengers In</th>\n",
       "      <th>Freight In</th>\n",
       "      <th>Mail In</th>\n",
       "      <th>Passengers Out</th>\n",
       "      <th>Freight Out</th>\n",
       "      <th>Mail Out</th>\n",
       "      <th>Year</th>\n",
       "    </tr>\n",
       "  </thead>\n",
       "  <tbody>\n",
       "    <tr>\n",
       "      <th>0</th>\n",
       "      <td>Jan009</td>\n",
       "      <td>Argentina</td>\n",
       "      <td>3,021</td>\n",
       "      <td>4.3</td>\n",
       "      <td>0.6</td>\n",
       "      <td>1,959</td>\n",
       "      <td>8.3</td>\n",
       "      <td>0.0</td>\n",
       "      <td>2009</td>\n",
       "    </tr>\n",
       "    <tr>\n",
       "      <th>1</th>\n",
       "      <td>Jan009</td>\n",
       "      <td>New Zealand</td>\n",
       "      <td>627</td>\n",
       "      <td>76.3</td>\n",
       "      <td>0.0</td>\n",
       "      <td>1,821</td>\n",
       "      <td>68.5</td>\n",
       "      <td>0.0</td>\n",
       "      <td>2009</td>\n",
       "    </tr>\n",
       "    <tr>\n",
       "      <th>2</th>\n",
       "      <td>Jan009</td>\n",
       "      <td>New Caledonia</td>\n",
       "      <td>6,658</td>\n",
       "      <td>4.9</td>\n",
       "      <td>0.6</td>\n",
       "      <td>5,365</td>\n",
       "      <td>68.6</td>\n",
       "      <td>1.3</td>\n",
       "      <td>2009</td>\n",
       "    </tr>\n",
       "    <tr>\n",
       "      <th>3</th>\n",
       "      <td>Jan009</td>\n",
       "      <td>Canada</td>\n",
       "      <td>7,489</td>\n",
       "      <td>174.8</td>\n",
       "      <td>0.0</td>\n",
       "      <td>6,424</td>\n",
       "      <td>105.2</td>\n",
       "      <td>0.0</td>\n",
       "      <td>2009</td>\n",
       "    </tr>\n",
       "    <tr>\n",
       "      <th>4</th>\n",
       "      <td>Jan009</td>\n",
       "      <td>China</td>\n",
       "      <td>12,458</td>\n",
       "      <td>201.3</td>\n",
       "      <td>18.6</td>\n",
       "      <td>11,163</td>\n",
       "      <td>142.4</td>\n",
       "      <td>2.9</td>\n",
       "      <td>2009</td>\n",
       "    </tr>\n",
       "  </tbody>\n",
       "</table>\n",
       "</div>"
      ],
      "text/plain": [
       "    Month Country to/from Passengers In Freight In Mail In Passengers Out  \\\n",
       "0  Jan009       Argentina         3,021        4.3     0.6          1,959   \n",
       "1  Jan009     New Zealand           627       76.3     0.0          1,821   \n",
       "2  Jan009   New Caledonia         6,658        4.9     0.6          5,365   \n",
       "3  Jan009          Canada         7,489      174.8     0.0          6,424   \n",
       "4  Jan009           China        12,458      201.3    18.6         11,163   \n",
       "\n",
       "  Freight Out Mail Out  Year  \n",
       "0         8.3      0.0  2009  \n",
       "1        68.5      0.0  2009  \n",
       "2        68.6      1.3  2009  \n",
       "3       105.2      0.0  2009  \n",
       "4       142.4      2.9  2009  "
      ]
     },
     "execution_count": 2,
     "metadata": {},
     "output_type": "execute_result"
    }
   ],
   "source": [
    "# Study data files\n",
    "file_path = \"cleansheet1.csv\"\n",
    "\n",
    "# Read the data \n",
    "flightdata = pd.read_csv(file_path)\n",
    "flightdata.head()"
   ]
  },
  {
   "cell_type": "code",
   "execution_count": 3,
   "metadata": {},
   "outputs": [
    {
     "data": {
      "text/html": [
       "<div>\n",
       "<style scoped>\n",
       "    .dataframe tbody tr th:only-of-type {\n",
       "        vertical-align: middle;\n",
       "    }\n",
       "\n",
       "    .dataframe tbody tr th {\n",
       "        vertical-align: top;\n",
       "    }\n",
       "\n",
       "    .dataframe thead th {\n",
       "        text-align: right;\n",
       "    }\n",
       "</style>\n",
       "<table border=\"1\" class=\"dataframe\">\n",
       "  <thead>\n",
       "    <tr style=\"text-align: right;\">\n",
       "      <th></th>\n",
       "      <th>Month</th>\n",
       "      <th>Country to/from</th>\n",
       "      <th>Year</th>\n",
       "    </tr>\n",
       "  </thead>\n",
       "  <tbody>\n",
       "    <tr>\n",
       "      <th>0</th>\n",
       "      <td>Jan009</td>\n",
       "      <td>Argentina</td>\n",
       "      <td>2009</td>\n",
       "    </tr>\n",
       "    <tr>\n",
       "      <th>1</th>\n",
       "      <td>Jan009</td>\n",
       "      <td>New Zealand</td>\n",
       "      <td>2009</td>\n",
       "    </tr>\n",
       "    <tr>\n",
       "      <th>2</th>\n",
       "      <td>Jan009</td>\n",
       "      <td>New Caledonia</td>\n",
       "      <td>2009</td>\n",
       "    </tr>\n",
       "    <tr>\n",
       "      <th>3</th>\n",
       "      <td>Jan009</td>\n",
       "      <td>Canada</td>\n",
       "      <td>2009</td>\n",
       "    </tr>\n",
       "    <tr>\n",
       "      <th>4</th>\n",
       "      <td>Jan009</td>\n",
       "      <td>China</td>\n",
       "      <td>2009</td>\n",
       "    </tr>\n",
       "  </tbody>\n",
       "</table>\n",
       "</div>"
      ],
      "text/plain": [
       "    Month Country to/from  Year\n",
       "0  Jan009       Argentina  2009\n",
       "1  Jan009     New Zealand  2009\n",
       "2  Jan009   New Caledonia  2009\n",
       "3  Jan009          Canada  2009\n",
       "4  Jan009           China  2009"
      ]
     },
     "execution_count": 3,
     "metadata": {},
     "output_type": "execute_result"
    }
   ],
   "source": [
    "# Create a dataframe for country related info \n",
    "flight_cntry = flightdata[[\"Month\", \"Country to/from\" , \"Year\"]]\n",
    "flight_cntry.head()"
   ]
  },
  {
   "cell_type": "code",
   "execution_count": 4,
   "metadata": {},
   "outputs": [
    {
     "data": {
      "text/plain": [
       "New Zealand             1398\n",
       "Singapore               1363\n",
       "USA                     1298\n",
       "China                   1286\n",
       "Indonesia                866\n",
       "Thailand                 708\n",
       "Papua New Guinea         578\n",
       "Japan                    573\n",
       "Hong Kong (SAR)          551\n",
       "Solomon Islands          454\n",
       "Malaysia                 450\n",
       "Fiji                     429\n",
       "United Arab Emirates     421\n",
       "Korea                    419\n",
       "Philippines              393\n",
       "Taiwan                   377\n",
       "UK                       339\n",
       "Vanuatu                  328\n",
       "South Africa             283\n",
       "New Caledonia            278\n",
       "Vietnam                  258\n",
       "Chile                    239\n",
       "Western Samoa            165\n",
       "Canada                   161\n",
       "Nauru                    160\n",
       "Brunei                   143\n",
       "Mauritius                138\n",
       "Qatar                    137\n",
       "Tonga                    135\n",
       "India                    128\n",
       "Cook Islands             115\n",
       "Argentina                105\n",
       "Guam                      90\n",
       "Germany                   55\n",
       "Macau                     48\n",
       "Reunion                   41\n",
       "Sri Lanka                 38\n",
       "France                    37\n",
       "Luxembourg                20\n",
       "Kiribati                  16\n",
       "Kazakhstan                13\n",
       "Tahiti                     7\n",
       "Turkey                     3\n",
       "Brazil                     3\n",
       "Bahrain                    2\n",
       "Cambodia                   2\n",
       "Laos                       2\n",
       "Uruguay                    1\n",
       "Nigeria                    1\n",
       "Netherlands                1\n",
       "Peru                       1\n",
       "Name: Country to/from, dtype: int64"
      ]
     },
     "execution_count": 4,
     "metadata": {},
     "output_type": "execute_result"
    }
   ],
   "source": [
    "# Counts flight operation with respect to country\n",
    "cntrycount = flightdata[\"Country to/from\"].value_counts()\n",
    "cntrycount"
   ]
  },
  {
   "cell_type": "code",
   "execution_count": 5,
   "metadata": {},
   "outputs": [
    {
     "data": {
      "text/plain": [
       "2018    1352\n",
       "2019    1343\n",
       "2011    1333\n",
       "2017    1306\n",
       "2010    1292\n",
       "2012    1288\n",
       "2016    1279\n",
       "2013    1272\n",
       "2014    1229\n",
       "2015    1228\n",
       "2009    1092\n",
       "2020    1043\n",
       "Name: Year, dtype: int64"
      ]
     },
     "execution_count": 5,
     "metadata": {},
     "output_type": "execute_result"
    }
   ],
   "source": [
    "# Counts flight operation in year \n",
    "yearcount = flightdata[\"Year\"].value_counts()\n",
    "yearcount"
   ]
  },
  {
   "cell_type": "code",
   "execution_count": 6,
   "metadata": {},
   "outputs": [
    {
     "data": {
      "text/plain": [
       "Text(0, 0.5, 'Number of flights')"
      ]
     },
     "execution_count": 6,
     "metadata": {},
     "output_type": "execute_result"
    },
    {
     "data": {
      "image/png": "[encoded data removed]",
      "text/plain": [
       "<Figure size 432x288 with 1 Axes>"
      ]
     },
     "metadata": {
      "needs_background": "light"
     },
     "output_type": "display_data"
    }
   ],
   "source": [
    "#Plot Number of flight Count from year 2009 to 2020\"\n",
    "plt.xticks(rotation='vertical')\n",
    "plt.bar(yearcount.index, yearcount, color='b', alpha=0.5, align=\"center\")\n",
    "plt.title(\"Number of flight Count from year 2009 to 2020\")\n",
    "plt.ylabel(\"Number of flights\")"
   ]
  },
  {
   "cell_type": "code",
   "execution_count": 15,
   "metadata": {},
   "outputs": [
    {
     "data": {
      "text/plain": [
       "<matplotlib.legend.Legend at 0x7fcdbdc37e80>"
      ]
     },
     "execution_count": 15,
     "metadata": {},
     "output_type": "execute_result"
    },
    {
     "data": {
      "image/png": "[encoded data removed]",
      "text/plain": [
       "<Figure size 1080x360 with 1 Axes>"
      ]
     },
     "metadata": {
      "needs_background": "light"
     },
     "output_type": "display_data"
    }
   ],
   "source": [
    "# Plot the Air traffic overview countrywise during year 2009 to 2020\n",
    "\n",
    "# Country lables on X axis\n",
    "Cntry_labels =  cntrycount.index\n",
    "\n",
    "# the label locations\n",
    "x = np.arange(len(year_labels))\n",
    "width = 0.2  \n",
    "\n",
    "# Plot graph\n",
    "fig, ax = plt.subplots(figsize=(15,5))\n",
    "\n",
    "yearcntbar = ax.bar(x, cntrycount, width, label='No of flights', color = \"red\")\n",
    "\n",
    "ax.set_ylabel('Number of flights')\n",
    "ax.set_title('Air traffic overview countrywise during year 2009 to 2020')\n",
    "ax.set_xticks(x)\n",
    "plt.xticks(rotation='vertical')\n",
    "ax.set_xticklabels(Cntry_labels)\n",
    "ax.legend()"
   ]
  },
  {
   "cell_type": "code",
   "execution_count": 16,
   "metadata": {},
   "outputs": [
    {
     "data": {
      "text/plain": [
       "New Zealand             1398\n",
       "Singapore               1363\n",
       "USA                     1298\n",
       "China                   1286\n",
       "Indonesia                866\n",
       "Thailand                 708\n",
       "Papua New Guinea         578\n",
       "Japan                    573\n",
       "Hong Kong (SAR)          551\n",
       "Solomon Islands          454\n",
       "Malaysia                 450\n",
       "Fiji                     429\n",
       "United Arab Emirates     421\n",
       "Korea                    419\n",
       "Philippines              393\n",
       "Name: Country to/from, dtype: int64"
      ]
     },
     "execution_count": 16,
     "metadata": {},
     "output_type": "execute_result"
    }
   ],
   "source": [
    "# Top 10 countries during during year 2009 to 2020\n",
    "topcntry = cntrycount.nlargest(15, 'all')\n",
    "topcntry"
   ]
  },
  {
   "cell_type": "code",
   "execution_count": 18,
   "metadata": {},
   "outputs": [
    {
     "data": {
      "image/png": "[encoded data removed]",
      "text/plain": [
       "<Figure size 432x288 with 1 Axes>"
      ]
     },
     "metadata": {
      "needs_background": "light"
     },
     "output_type": "display_data"
    }
   ],
   "source": [
    "# Plot top 10 countries during during year 2009 to 2020\n",
    "fig = plt.figure()\n",
    "ax = fig.add_axes([0,0,1,1])\n",
    "xaxis = topcntry.index\n",
    "yaxis = topcntry\n",
    "ax.bar(xaxis,yaxis)\n",
    "plt.xticks(rotation='vertical')\n",
    "plt.show()"
   ]
  },
  {
   "cell_type": "code",
   "execution_count": 21,
   "metadata": {},
   "outputs": [
    {
     "data": {
      "text/plain": [
       "Uruguay         1\n",
       "Nigeria         1\n",
       "Netherlands     1\n",
       "Peru            1\n",
       "Bahrain         2\n",
       "Cambodia        2\n",
       "Laos            2\n",
       "Turkey          3\n",
       "Brazil          3\n",
       "Tahiti          7\n",
       "Kazakhstan     13\n",
       "Kiribati       16\n",
       "Luxembourg     20\n",
       "France         37\n",
       "Sri Lanka      38\n",
       "Name: Country to/from, dtype: int64"
      ]
     },
     "execution_count": 21,
     "metadata": {},
     "output_type": "execute_result"
    }
   ],
   "source": [
    "# Plot bottom 10 countries during during year 2009 to 2020\n",
    "bottomcntry = cntrycount.nsmallest(15, 'all')\n",
    "bottomcntry"
   ]
  },
  {
   "cell_type": "code",
   "execution_count": 20,
   "metadata": {},
   "outputs": [
    {
     "data": {
      "text/plain": [
       "<BarContainer object of 15 artists>"
      ]
     },
     "execution_count": 20,
     "metadata": {},
     "output_type": "execute_result"
    },
    {
     "data": {
      "image/png": "[encoded data removed]",
      "text/plain": [
       "<Figure size 432x288 with 1 Axes>"
      ]
     },
     "metadata": {
      "needs_background": "light"
     },
     "output_type": "display_data"
    }
   ],
   "source": [
    "# Plot bottom 10 countries during during year 2009 to 2020\n",
    "plt.xticks(rotation='vertical')\n",
    "plt.bar(bottomcntry.index, bottomcntry, color='r', alpha=0.5, align=\"center\")"
   ]
  },
  {
   "cell_type": "code",
   "execution_count": 24,
   "metadata": {},
   "outputs": [],
   "source": [
    "Y19 = flightdata.loc[flightdata['Year'] == 2019]\n",
    "Y20 = flightdata.loc[flightdata['Year'] == 2020]"
   ]
  },
  {
   "cell_type": "code",
   "execution_count": 25,
   "metadata": {},
   "outputs": [
    {
     "data": {
      "text/html": [
       "<div>\n",
       "<style scoped>\n",
       "    .dataframe tbody tr th:only-of-type {\n",
       "        vertical-align: middle;\n",
       "    }\n",
       "\n",
       "    .dataframe tbody tr th {\n",
       "        vertical-align: top;\n",
       "    }\n",
       "\n",
       "    .dataframe thead th {\n",
       "        text-align: right;\n",
       "    }\n",
       "</style>\n",
       "<table border=\"1\" class=\"dataframe\">\n",
       "  <thead>\n",
       "    <tr style=\"text-align: right;\">\n",
       "      <th></th>\n",
       "      <th>Month</th>\n",
       "      <th>Country to/from</th>\n",
       "      <th>Passengers In</th>\n",
       "      <th>Freight In</th>\n",
       "      <th>Mail In</th>\n",
       "      <th>Passengers Out</th>\n",
       "      <th>Freight Out</th>\n",
       "      <th>Mail Out</th>\n",
       "      <th>Year</th>\n",
       "    </tr>\n",
       "  </thead>\n",
       "  <tbody>\n",
       "    <tr>\n",
       "      <th>14014</th>\n",
       "      <td>Dec019</td>\n",
       "      <td>New Caledonia</td>\n",
       "      <td>6,944</td>\n",
       "      <td>3.9</td>\n",
       "      <td>1.4</td>\n",
       "      <td>5,827</td>\n",
       "      <td>98.3</td>\n",
       "      <td>10.8</td>\n",
       "      <td>2020</td>\n",
       "    </tr>\n",
       "    <tr>\n",
       "      <th>14015</th>\n",
       "      <td>Dec019</td>\n",
       "      <td>Canada</td>\n",
       "      <td>16,792</td>\n",
       "      <td>319.0</td>\n",
       "      <td>17.0</td>\n",
       "      <td>20,523</td>\n",
       "      <td>493.4</td>\n",
       "      <td>17.2</td>\n",
       "      <td>2020</td>\n",
       "    </tr>\n",
       "    <tr>\n",
       "      <th>14016</th>\n",
       "      <td>Dec019</td>\n",
       "      <td>New Zealand</td>\n",
       "      <td>169</td>\n",
       "      <td>1.5</td>\n",
       "      <td>0.0</td>\n",
       "      <td>144</td>\n",
       "      <td>0.0</td>\n",
       "      <td>0.0</td>\n",
       "      <td>2020</td>\n",
       "    </tr>\n",
       "    <tr>\n",
       "      <th>14017</th>\n",
       "      <td>Dec019</td>\n",
       "      <td>China</td>\n",
       "      <td>18,332</td>\n",
       "      <td>299.1</td>\n",
       "      <td>38.0</td>\n",
       "      <td>23,232</td>\n",
       "      <td>645.6</td>\n",
       "      <td>2.7</td>\n",
       "      <td>2020</td>\n",
       "    </tr>\n",
       "    <tr>\n",
       "      <th>14018</th>\n",
       "      <td>Dec019</td>\n",
       "      <td>India</td>\n",
       "      <td>7,794</td>\n",
       "      <td>191.0</td>\n",
       "      <td>15.8</td>\n",
       "      <td>8,536</td>\n",
       "      <td>190.5</td>\n",
       "      <td>0.0</td>\n",
       "      <td>2020</td>\n",
       "    </tr>\n",
       "  </tbody>\n",
       "</table>\n",
       "</div>"
      ],
      "text/plain": [
       "        Month Country to/from Passengers In Freight In Mail In Passengers Out  \\\n",
       "14014  Dec019   New Caledonia         6,944        3.9     1.4          5,827   \n",
       "14015  Dec019          Canada        16,792      319.0    17.0         20,523   \n",
       "14016  Dec019     New Zealand           169        1.5     0.0            144   \n",
       "14017  Dec019           China        18,332      299.1    38.0         23,232   \n",
       "14018  Dec019           India         7,794      191.0    15.8          8,536   \n",
       "\n",
       "      Freight Out Mail Out  Year  \n",
       "14014        98.3     10.8  2020  \n",
       "14015       493.4     17.2  2020  \n",
       "14016         0.0      0.0  2020  \n",
       "14017       645.6      2.7  2020  \n",
       "14018       190.5      0.0  2020  "
      ]
     },
     "execution_count": 25,
     "metadata": {},
     "output_type": "execute_result"
    }
   ],
   "source": [
    "Y20.head()"
   ]
  },
  {
   "cell_type": "code",
   "execution_count": null,
   "metadata": {},
   "outputs": [],
   "source": []
  }
 ],
 "metadata": {
  "kernelspec": {
   "display_name": "Python 3",
   "language": "python",
   "name": "python3"
  },
  "language_info": {
   "codemirror_mode": {
    "name": "ipython",
    "version": 3
   },
   "file_extension": ".py",
   "mimetype": "text/x-python",
   "name": "python",
   "nbconvert_exporter": "python",
   "pygments_lexer": "ipython3",
   "version": "3.8.3"
  }
 },
 "nbformat": 4,
 "nbformat_minor": 4
}
