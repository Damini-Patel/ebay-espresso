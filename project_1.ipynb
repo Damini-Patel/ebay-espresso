{
 "cells": [
  {
   "cell_type": "code",
   "execution_count": 35,
   "metadata": {},
   "outputs": [],
   "source": [
    "# Dependencies and Setup\n",
    "import matplotlib.pyplot as plt\n",
    "import pandas as pd\n",
    "import scipy.stats as st\n",
    "import numpy as np\n",
    "from scipy.stats import linregress\n",
    "from scipy import stats"
   ]
  },
  {
   "cell_type": "code",
   "execution_count": 21,
   "metadata": {},
   "outputs": [
    {
     "data": {
      "text/html": [
       "<div>\n",
       "<style scoped>\n",
       "    .dataframe tbody tr th:only-of-type {\n",
       "        vertical-align: middle;\n",
       "    }\n",
       "\n",
       "    .dataframe tbody tr th {\n",
       "        vertical-align: top;\n",
       "    }\n",
       "\n",
       "    .dataframe thead th {\n",
       "        text-align: right;\n",
       "    }\n",
       "</style>\n",
       "<table border=\"1\" class=\"dataframe\">\n",
       "  <thead>\n",
       "    <tr style=\"text-align: right;\">\n",
       "      <th></th>\n",
       "      <th>Month</th>\n",
       "      <th>Country to/from</th>\n",
       "      <th>Passengers In</th>\n",
       "      <th>Freight In</th>\n",
       "      <th>Mail In</th>\n",
       "      <th>Passengers Out</th>\n",
       "      <th>Freight Out</th>\n",
       "      <th>Mail Out</th>\n",
       "      <th>Year</th>\n",
       "    </tr>\n",
       "  </thead>\n",
       "  <tbody>\n",
       "    <tr>\n",
       "      <th>0</th>\n",
       "      <td>Jan009</td>\n",
       "      <td>Argentina</td>\n",
       "      <td>3,021</td>\n",
       "      <td>4.3</td>\n",
       "      <td>0.6</td>\n",
       "      <td>1,959</td>\n",
       "      <td>8.3</td>\n",
       "      <td>0.0</td>\n",
       "      <td>2009</td>\n",
       "    </tr>\n",
       "    <tr>\n",
       "      <th>1</th>\n",
       "      <td>Jan009</td>\n",
       "      <td>New Zealand</td>\n",
       "      <td>627</td>\n",
       "      <td>76.3</td>\n",
       "      <td>0.0</td>\n",
       "      <td>1,821</td>\n",
       "      <td>68.5</td>\n",
       "      <td>0.0</td>\n",
       "      <td>2009</td>\n",
       "    </tr>\n",
       "    <tr>\n",
       "      <th>2</th>\n",
       "      <td>Jan009</td>\n",
       "      <td>New Caledonia</td>\n",
       "      <td>6,658</td>\n",
       "      <td>4.9</td>\n",
       "      <td>0.6</td>\n",
       "      <td>5,365</td>\n",
       "      <td>68.6</td>\n",
       "      <td>1.3</td>\n",
       "      <td>2009</td>\n",
       "    </tr>\n",
       "    <tr>\n",
       "      <th>3</th>\n",
       "      <td>Jan009</td>\n",
       "      <td>Canada</td>\n",
       "      <td>7,489</td>\n",
       "      <td>174.8</td>\n",
       "      <td>0.0</td>\n",
       "      <td>6,424</td>\n",
       "      <td>105.2</td>\n",
       "      <td>0.0</td>\n",
       "      <td>2009</td>\n",
       "    </tr>\n",
       "    <tr>\n",
       "      <th>4</th>\n",
       "      <td>Jan009</td>\n",
       "      <td>China</td>\n",
       "      <td>12,458</td>\n",
       "      <td>201.3</td>\n",
       "      <td>18.6</td>\n",
       "      <td>11,163</td>\n",
       "      <td>142.4</td>\n",
       "      <td>2.9</td>\n",
       "      <td>2009</td>\n",
       "    </tr>\n",
       "  </tbody>\n",
       "</table>\n",
       "</div>"
      ],
      "text/plain": [
       "    Month Country to/from Passengers In Freight In Mail In Passengers Out  \\\n",
       "0  Jan009       Argentina         3,021        4.3     0.6          1,959   \n",
       "1  Jan009     New Zealand           627       76.3     0.0          1,821   \n",
       "2  Jan009   New Caledonia         6,658        4.9     0.6          5,365   \n",
       "3  Jan009          Canada         7,489      174.8     0.0          6,424   \n",
       "4  Jan009           China        12,458      201.3    18.6         11,163   \n",
       "\n",
       "  Freight Out Mail Out  Year  \n",
       "0         8.3      0.0  2009  \n",
       "1        68.5      0.0  2009  \n",
       "2        68.6      1.3  2009  \n",
       "3       105.2      0.0  2009  \n",
       "4       142.4      2.9  2009  "
      ]
     },
     "execution_count": 21,
     "metadata": {},
     "output_type": "execute_result"
    }
   ],
   "source": [
    "# Read in the data\n",
    "flights_data = pd.read_csv(\"cleansheet1.csv\")\n",
    "flights_data.head()"
   ]
  },
  {
   "cell_type": "code",
   "execution_count": 22,
   "metadata": {},
   "outputs": [
    {
     "data": {
      "text/html": [
       "<div>\n",
       "<style scoped>\n",
       "    .dataframe tbody tr th:only-of-type {\n",
       "        vertical-align: middle;\n",
       "    }\n",
       "\n",
       "    .dataframe tbody tr th {\n",
       "        vertical-align: top;\n",
       "    }\n",
       "\n",
       "    .dataframe thead th {\n",
       "        text-align: right;\n",
       "    }\n",
       "</style>\n",
       "<table border=\"1\" class=\"dataframe\">\n",
       "  <thead>\n",
       "    <tr style=\"text-align: right;\">\n",
       "      <th></th>\n",
       "      <th>Month</th>\n",
       "      <th>Country to/from</th>\n",
       "      <th>Passengers In</th>\n",
       "      <th>Passengers Out</th>\n",
       "      <th>Year</th>\n",
       "    </tr>\n",
       "  </thead>\n",
       "  <tbody>\n",
       "    <tr>\n",
       "      <th>0</th>\n",
       "      <td>Jan009</td>\n",
       "      <td>Argentina</td>\n",
       "      <td>3,021</td>\n",
       "      <td>1,959</td>\n",
       "      <td>2009</td>\n",
       "    </tr>\n",
       "    <tr>\n",
       "      <th>1</th>\n",
       "      <td>Jan009</td>\n",
       "      <td>New Zealand</td>\n",
       "      <td>627</td>\n",
       "      <td>1,821</td>\n",
       "      <td>2009</td>\n",
       "    </tr>\n",
       "    <tr>\n",
       "      <th>2</th>\n",
       "      <td>Jan009</td>\n",
       "      <td>New Caledonia</td>\n",
       "      <td>6,658</td>\n",
       "      <td>5,365</td>\n",
       "      <td>2009</td>\n",
       "    </tr>\n",
       "    <tr>\n",
       "      <th>3</th>\n",
       "      <td>Jan009</td>\n",
       "      <td>Canada</td>\n",
       "      <td>7,489</td>\n",
       "      <td>6,424</td>\n",
       "      <td>2009</td>\n",
       "    </tr>\n",
       "    <tr>\n",
       "      <th>4</th>\n",
       "      <td>Jan009</td>\n",
       "      <td>China</td>\n",
       "      <td>12,458</td>\n",
       "      <td>11,163</td>\n",
       "      <td>2009</td>\n",
       "    </tr>\n",
       "    <tr>\n",
       "      <th>...</th>\n",
       "      <td>...</td>\n",
       "      <td>...</td>\n",
       "      <td>...</td>\n",
       "      <td>...</td>\n",
       "      <td>...</td>\n",
       "    </tr>\n",
       "    <tr>\n",
       "      <th>15052</th>\n",
       "      <td>Nov020</td>\n",
       "      <td>Korea</td>\n",
       "      <td>..</td>\n",
       "      <td>..</td>\n",
       "      <td>2020</td>\n",
       "    </tr>\n",
       "    <tr>\n",
       "      <th>15053</th>\n",
       "      <td>Nov020</td>\n",
       "      <td>Singapore</td>\n",
       "      <td>..</td>\n",
       "      <td>..</td>\n",
       "      <td>2020</td>\n",
       "    </tr>\n",
       "    <tr>\n",
       "      <th>15054</th>\n",
       "      <td>Nov020</td>\n",
       "      <td>USA</td>\n",
       "      <td>..</td>\n",
       "      <td>..</td>\n",
       "      <td>2020</td>\n",
       "    </tr>\n",
       "    <tr>\n",
       "      <th>15055</th>\n",
       "      <td>Nov020</td>\n",
       "      <td>Vietnam</td>\n",
       "      <td>248</td>\n",
       "      <td>691</td>\n",
       "      <td>2020</td>\n",
       "    </tr>\n",
       "    <tr>\n",
       "      <th>15056</th>\n",
       "      <td>Nov020</td>\n",
       "      <td>China</td>\n",
       "      <td>272</td>\n",
       "      <td>2,450</td>\n",
       "      <td>2020</td>\n",
       "    </tr>\n",
       "  </tbody>\n",
       "</table>\n",
       "<p>15057 rows × 5 columns</p>\n",
       "</div>"
      ],
      "text/plain": [
       "        Month Country to/from Passengers In Passengers Out  Year\n",
       "0      Jan009       Argentina         3,021          1,959  2009\n",
       "1      Jan009     New Zealand           627          1,821  2009\n",
       "2      Jan009   New Caledonia         6,658          5,365  2009\n",
       "3      Jan009          Canada         7,489          6,424  2009\n",
       "4      Jan009           China        12,458         11,163  2009\n",
       "...       ...             ...           ...            ...   ...\n",
       "15052  Nov020           Korea            ..             ..  2020\n",
       "15053  Nov020       Singapore            ..             ..  2020\n",
       "15054  Nov020             USA            ..             ..  2020\n",
       "15055  Nov020         Vietnam           248            691  2020\n",
       "15056  Nov020           China           272          2,450  2020\n",
       "\n",
       "[15057 rows x 5 columns]"
      ]
     },
     "execution_count": 22,
     "metadata": {},
     "output_type": "execute_result"
    }
   ],
   "source": [
    "# create new dataframe for passenger information only\n",
    "passengers_df = flights_data[[\"Month\", \"Country to/from\", \"Passengers In\", \"Passengers Out\", \"Year\"]]\n",
    "passengers_df"
   ]
  },
  {
   "cell_type": "code",
   "execution_count": 23,
   "metadata": {},
   "outputs": [
    {
     "name": "stdout",
     "output_type": "stream",
     "text": [
      "Month              object\n",
      "Country to/from    object\n",
      "Passengers In      object\n",
      "Passengers Out     object\n",
      "Year                int64\n",
      "dtype: object\n"
     ]
    }
   ],
   "source": [
    "# check column types\n",
    "print (passengers_df.dtypes)"
   ]
  },
  {
   "cell_type": "code",
   "execution_count": 24,
   "metadata": {},
   "outputs": [],
   "source": [
    "# remove commas from Passenger in and out columns\n",
    "passengers_df = passengers_df.replace(',','', regex=True)"
   ]
  },
  {
   "cell_type": "code",
   "execution_count": 25,
   "metadata": {},
   "outputs": [
    {
     "data": {
      "text/html": [
       "<div>\n",
       "<style scoped>\n",
       "    .dataframe tbody tr th:only-of-type {\n",
       "        vertical-align: middle;\n",
       "    }\n",
       "\n",
       "    .dataframe tbody tr th {\n",
       "        vertical-align: top;\n",
       "    }\n",
       "\n",
       "    .dataframe thead th {\n",
       "        text-align: right;\n",
       "    }\n",
       "</style>\n",
       "<table border=\"1\" class=\"dataframe\">\n",
       "  <thead>\n",
       "    <tr style=\"text-align: right;\">\n",
       "      <th></th>\n",
       "      <th>Month</th>\n",
       "      <th>Country to/from</th>\n",
       "      <th>Passengers In</th>\n",
       "      <th>Passengers Out</th>\n",
       "      <th>Year</th>\n",
       "    </tr>\n",
       "  </thead>\n",
       "  <tbody>\n",
       "    <tr>\n",
       "      <th>0</th>\n",
       "      <td>Jan009</td>\n",
       "      <td>Argentina</td>\n",
       "      <td>3021</td>\n",
       "      <td>1959</td>\n",
       "      <td>2009</td>\n",
       "    </tr>\n",
       "    <tr>\n",
       "      <th>1</th>\n",
       "      <td>Jan009</td>\n",
       "      <td>New Zealand</td>\n",
       "      <td>627</td>\n",
       "      <td>1821</td>\n",
       "      <td>2009</td>\n",
       "    </tr>\n",
       "    <tr>\n",
       "      <th>2</th>\n",
       "      <td>Jan009</td>\n",
       "      <td>New Caledonia</td>\n",
       "      <td>6658</td>\n",
       "      <td>5365</td>\n",
       "      <td>2009</td>\n",
       "    </tr>\n",
       "    <tr>\n",
       "      <th>3</th>\n",
       "      <td>Jan009</td>\n",
       "      <td>Canada</td>\n",
       "      <td>7489</td>\n",
       "      <td>6424</td>\n",
       "      <td>2009</td>\n",
       "    </tr>\n",
       "    <tr>\n",
       "      <th>4</th>\n",
       "      <td>Jan009</td>\n",
       "      <td>China</td>\n",
       "      <td>12458</td>\n",
       "      <td>11163</td>\n",
       "      <td>2009</td>\n",
       "    </tr>\n",
       "    <tr>\n",
       "      <th>...</th>\n",
       "      <td>...</td>\n",
       "      <td>...</td>\n",
       "      <td>...</td>\n",
       "      <td>...</td>\n",
       "      <td>...</td>\n",
       "    </tr>\n",
       "    <tr>\n",
       "      <th>15052</th>\n",
       "      <td>Nov020</td>\n",
       "      <td>Korea</td>\n",
       "      <td>..</td>\n",
       "      <td>..</td>\n",
       "      <td>2020</td>\n",
       "    </tr>\n",
       "    <tr>\n",
       "      <th>15053</th>\n",
       "      <td>Nov020</td>\n",
       "      <td>Singapore</td>\n",
       "      <td>..</td>\n",
       "      <td>..</td>\n",
       "      <td>2020</td>\n",
       "    </tr>\n",
       "    <tr>\n",
       "      <th>15054</th>\n",
       "      <td>Nov020</td>\n",
       "      <td>USA</td>\n",
       "      <td>..</td>\n",
       "      <td>..</td>\n",
       "      <td>2020</td>\n",
       "    </tr>\n",
       "    <tr>\n",
       "      <th>15055</th>\n",
       "      <td>Nov020</td>\n",
       "      <td>Vietnam</td>\n",
       "      <td>248</td>\n",
       "      <td>691</td>\n",
       "      <td>2020</td>\n",
       "    </tr>\n",
       "    <tr>\n",
       "      <th>15056</th>\n",
       "      <td>Nov020</td>\n",
       "      <td>China</td>\n",
       "      <td>272</td>\n",
       "      <td>2450</td>\n",
       "      <td>2020</td>\n",
       "    </tr>\n",
       "  </tbody>\n",
       "</table>\n",
       "<p>15057 rows × 5 columns</p>\n",
       "</div>"
      ],
      "text/plain": [
       "        Month Country to/from Passengers In Passengers Out  Year\n",
       "0      Jan009       Argentina          3021           1959  2009\n",
       "1      Jan009     New Zealand           627           1821  2009\n",
       "2      Jan009   New Caledonia          6658           5365  2009\n",
       "3      Jan009          Canada          7489           6424  2009\n",
       "4      Jan009           China         12458          11163  2009\n",
       "...       ...             ...           ...            ...   ...\n",
       "15052  Nov020           Korea            ..             ..  2020\n",
       "15053  Nov020       Singapore            ..             ..  2020\n",
       "15054  Nov020             USA            ..             ..  2020\n",
       "15055  Nov020         Vietnam           248            691  2020\n",
       "15056  Nov020           China           272           2450  2020\n",
       "\n",
       "[15057 rows x 5 columns]"
      ]
     },
     "execution_count": 25,
     "metadata": {},
     "output_type": "execute_result"
    }
   ],
   "source": [
    "# check commas have been removed\n",
    "passengers_df"
   ]
  },
  {
   "cell_type": "code",
   "execution_count": 26,
   "metadata": {},
   "outputs": [],
   "source": [
    "# remove missing values from Passangers In column in dataframe\n",
    "passengers_df.drop(passengers_df[passengers_df['Passengers In'] == \"..\"].index, inplace = True)"
   ]
  },
  {
   "cell_type": "code",
   "execution_count": 27,
   "metadata": {},
   "outputs": [
    {
     "data": {
      "text/html": [
       "<div>\n",
       "<style scoped>\n",
       "    .dataframe tbody tr th:only-of-type {\n",
       "        vertical-align: middle;\n",
       "    }\n",
       "\n",
       "    .dataframe tbody tr th {\n",
       "        vertical-align: top;\n",
       "    }\n",
       "\n",
       "    .dataframe thead th {\n",
       "        text-align: right;\n",
       "    }\n",
       "</style>\n",
       "<table border=\"1\" class=\"dataframe\">\n",
       "  <thead>\n",
       "    <tr style=\"text-align: right;\">\n",
       "      <th></th>\n",
       "      <th>Month</th>\n",
       "      <th>Country to/from</th>\n",
       "      <th>Passengers In</th>\n",
       "      <th>Passengers Out</th>\n",
       "      <th>Year</th>\n",
       "    </tr>\n",
       "  </thead>\n",
       "  <tbody>\n",
       "    <tr>\n",
       "      <th>0</th>\n",
       "      <td>Jan009</td>\n",
       "      <td>Argentina</td>\n",
       "      <td>3021</td>\n",
       "      <td>1959</td>\n",
       "      <td>2009</td>\n",
       "    </tr>\n",
       "    <tr>\n",
       "      <th>1</th>\n",
       "      <td>Jan009</td>\n",
       "      <td>New Zealand</td>\n",
       "      <td>627</td>\n",
       "      <td>1821</td>\n",
       "      <td>2009</td>\n",
       "    </tr>\n",
       "    <tr>\n",
       "      <th>2</th>\n",
       "      <td>Jan009</td>\n",
       "      <td>New Caledonia</td>\n",
       "      <td>6658</td>\n",
       "      <td>5365</td>\n",
       "      <td>2009</td>\n",
       "    </tr>\n",
       "    <tr>\n",
       "      <th>3</th>\n",
       "      <td>Jan009</td>\n",
       "      <td>Canada</td>\n",
       "      <td>7489</td>\n",
       "      <td>6424</td>\n",
       "      <td>2009</td>\n",
       "    </tr>\n",
       "    <tr>\n",
       "      <th>4</th>\n",
       "      <td>Jan009</td>\n",
       "      <td>China</td>\n",
       "      <td>12458</td>\n",
       "      <td>11163</td>\n",
       "      <td>2009</td>\n",
       "    </tr>\n",
       "    <tr>\n",
       "      <th>...</th>\n",
       "      <td>...</td>\n",
       "      <td>...</td>\n",
       "      <td>...</td>\n",
       "      <td>...</td>\n",
       "      <td>...</td>\n",
       "    </tr>\n",
       "    <tr>\n",
       "      <th>15048</th>\n",
       "      <td>Nov020</td>\n",
       "      <td>Thailand</td>\n",
       "      <td>181</td>\n",
       "      <td>558</td>\n",
       "      <td>2020</td>\n",
       "    </tr>\n",
       "    <tr>\n",
       "      <th>15049</th>\n",
       "      <td>Nov020</td>\n",
       "      <td>New Zealand</td>\n",
       "      <td>0</td>\n",
       "      <td>0</td>\n",
       "      <td>2020</td>\n",
       "    </tr>\n",
       "    <tr>\n",
       "      <th>15050</th>\n",
       "      <td>Nov020</td>\n",
       "      <td>USA</td>\n",
       "      <td>1546</td>\n",
       "      <td>1799</td>\n",
       "      <td>2020</td>\n",
       "    </tr>\n",
       "    <tr>\n",
       "      <th>15055</th>\n",
       "      <td>Nov020</td>\n",
       "      <td>Vietnam</td>\n",
       "      <td>248</td>\n",
       "      <td>691</td>\n",
       "      <td>2020</td>\n",
       "    </tr>\n",
       "    <tr>\n",
       "      <th>15056</th>\n",
       "      <td>Nov020</td>\n",
       "      <td>China</td>\n",
       "      <td>272</td>\n",
       "      <td>2450</td>\n",
       "      <td>2020</td>\n",
       "    </tr>\n",
       "  </tbody>\n",
       "</table>\n",
       "<p>12621 rows × 5 columns</p>\n",
       "</div>"
      ],
      "text/plain": [
       "        Month Country to/from Passengers In Passengers Out  Year\n",
       "0      Jan009       Argentina          3021           1959  2009\n",
       "1      Jan009     New Zealand           627           1821  2009\n",
       "2      Jan009   New Caledonia          6658           5365  2009\n",
       "3      Jan009          Canada          7489           6424  2009\n",
       "4      Jan009           China         12458          11163  2009\n",
       "...       ...             ...           ...            ...   ...\n",
       "15048  Nov020        Thailand           181            558  2020\n",
       "15049  Nov020     New Zealand             0              0  2020\n",
       "15050  Nov020             USA          1546           1799  2020\n",
       "15055  Nov020         Vietnam           248            691  2020\n",
       "15056  Nov020           China           272           2450  2020\n",
       "\n",
       "[12621 rows x 5 columns]"
      ]
     },
     "execution_count": 27,
     "metadata": {},
     "output_type": "execute_result"
    }
   ],
   "source": [
    "# remove missing values from Passangers Out column in dataframe\n",
    "passengers_df.drop(passengers_df[passengers_df['Passengers Out'] == \"..\"].index, inplace = True)\n",
    "passengers_df"
   ]
  },
  {
   "cell_type": "code",
   "execution_count": 28,
   "metadata": {},
   "outputs": [],
   "source": [
    "# change column types\n",
    "passengers_df['Passengers In'] = passengers_df['Passengers In'].astype(float)\n",
    "passengers_df['Passengers Out'] = passengers_df['Passengers Out'].astype(float)\n",
    "#passengers_df['Year'] = passengers_df['Year'].astype(str)"
   ]
  },
  {
   "cell_type": "code",
   "execution_count": 30,
   "metadata": {},
   "outputs": [
    {
     "name": "stdout",
     "output_type": "stream",
     "text": [
      "Month               object\n",
      "Country to/from     object\n",
      "Passengers In      float64\n",
      "Passengers Out     float64\n",
      "Year                 int64\n",
      "dtype: object\n"
     ]
    }
   ],
   "source": [
    "# check column types\n",
    "print (passengers_df.dtypes)"
   ]
  },
  {
   "cell_type": "code",
   "execution_count": 37,
   "metadata": {},
   "outputs": [
    {
     "data": {
      "text/html": [
       "<div>\n",
       "<style scoped>\n",
       "    .dataframe tbody tr th:only-of-type {\n",
       "        vertical-align: middle;\n",
       "    }\n",
       "\n",
       "    .dataframe tbody tr th {\n",
       "        vertical-align: top;\n",
       "    }\n",
       "\n",
       "    .dataframe thead th {\n",
       "        text-align: right;\n",
       "    }\n",
       "</style>\n",
       "<table border=\"1\" class=\"dataframe\">\n",
       "  <thead>\n",
       "    <tr style=\"text-align: right;\">\n",
       "      <th></th>\n",
       "      <th>Year</th>\n",
       "      <th>Passengers In</th>\n",
       "      <th>Passengers Out</th>\n",
       "    </tr>\n",
       "  </thead>\n",
       "  <tbody>\n",
       "    <tr>\n",
       "      <th>0</th>\n",
       "      <td>2009</td>\n",
       "      <td>11191084.0</td>\n",
       "      <td>10812030.0</td>\n",
       "    </tr>\n",
       "    <tr>\n",
       "      <th>1</th>\n",
       "      <td>2010</td>\n",
       "      <td>13360590.0</td>\n",
       "      <td>13255177.0</td>\n",
       "    </tr>\n",
       "    <tr>\n",
       "      <th>2</th>\n",
       "      <td>2011</td>\n",
       "      <td>14116192.0</td>\n",
       "      <td>13944524.0</td>\n",
       "    </tr>\n",
       "    <tr>\n",
       "      <th>3</th>\n",
       "      <td>2012</td>\n",
       "      <td>14818329.0</td>\n",
       "      <td>14612018.0</td>\n",
       "    </tr>\n",
       "    <tr>\n",
       "      <th>4</th>\n",
       "      <td>2013</td>\n",
       "      <td>15692401.0</td>\n",
       "      <td>15430647.0</td>\n",
       "    </tr>\n",
       "    <tr>\n",
       "      <th>5</th>\n",
       "      <td>2014</td>\n",
       "      <td>16599888.0</td>\n",
       "      <td>16444094.0</td>\n",
       "    </tr>\n",
       "    <tr>\n",
       "      <th>6</th>\n",
       "      <td>2015</td>\n",
       "      <td>17386463.0</td>\n",
       "      <td>17211470.0</td>\n",
       "    </tr>\n",
       "    <tr>\n",
       "      <th>7</th>\n",
       "      <td>2016</td>\n",
       "      <td>18801455.0</td>\n",
       "      <td>18584223.0</td>\n",
       "    </tr>\n",
       "    <tr>\n",
       "      <th>8</th>\n",
       "      <td>2017</td>\n",
       "      <td>19849145.0</td>\n",
       "      <td>19597226.0</td>\n",
       "    </tr>\n",
       "    <tr>\n",
       "      <th>9</th>\n",
       "      <td>2018</td>\n",
       "      <td>20854479.0</td>\n",
       "      <td>20597190.0</td>\n",
       "    </tr>\n",
       "    <tr>\n",
       "      <th>10</th>\n",
       "      <td>2019</td>\n",
       "      <td>21312861.0</td>\n",
       "      <td>21107103.0</td>\n",
       "    </tr>\n",
       "    <tr>\n",
       "      <th>11</th>\n",
       "      <td>2020</td>\n",
       "      <td>6640031.0</td>\n",
       "      <td>6609162.0</td>\n",
       "    </tr>\n",
       "  </tbody>\n",
       "</table>\n",
       "</div>"
      ],
      "text/plain": [
       "    Year  Passengers In  Passengers Out\n",
       "0   2009     11191084.0      10812030.0\n",
       "1   2010     13360590.0      13255177.0\n",
       "2   2011     14116192.0      13944524.0\n",
       "3   2012     14818329.0      14612018.0\n",
       "4   2013     15692401.0      15430647.0\n",
       "5   2014     16599888.0      16444094.0\n",
       "6   2015     17386463.0      17211470.0\n",
       "7   2016     18801455.0      18584223.0\n",
       "8   2017     19849145.0      19597226.0\n",
       "9   2018     20854479.0      20597190.0\n",
       "10  2019     21312861.0      21107103.0\n",
       "11  2020      6640031.0       6609162.0"
      ]
     },
     "execution_count": 37,
     "metadata": {},
     "output_type": "execute_result"
    }
   ],
   "source": [
    "# create data frame by year and number of passengers in/out\n",
    "passenger_in_year_grouped = passengers_df.groupby([\"Year\"])[\"Passengers In\"].sum()\n",
    "passenger_out_year_grouped = passengers_df.groupby([\"Year\"])[\"Passengers Out\"].sum()\n",
    "passenger_year_df = pd.DataFrame({'Passengers In': passenger_in_year_grouped,\n",
    "                   'Passengers Out': passenger_out_year_grouped})\n",
    "passenger_year_df = passenger_year_df.reset_index()\n",
    "passenger_year_df"
   ]
  },
  {
   "cell_type": "code",
   "execution_count": 38,
   "metadata": {},
   "outputs": [
    {
     "data": {
      "text/plain": [
       "<matplotlib.legend.Legend at 0x266a7fbefa0>"
      ]
     },
     "execution_count": 38,
     "metadata": {},
     "output_type": "execute_result"
    },
    {
     "data": {
      "image/png": "[encoded data removed]",
      "text/plain": [
       "<Figure size 432x288 with 1 Axes>"
      ]
     },
     "metadata": {
      "needs_background": "light"
     },
     "output_type": "display_data"
    }
   ],
   "source": [
    "# choose values to plot\n",
    "labels = passenger_year_df[\"Year\"]\n",
    "piyear = passenger_year_df['Passengers In']\n",
    "poyear = passenger_year_df['Passengers Out']\n",
    "\n",
    "# the label locations\n",
    "x = np.arange(len(labels))\n",
    "# the width of the bars  \n",
    "width = 0.35  \n",
    "\n",
    "#plot graph\n",
    "fig, ax = plt.subplots()\n",
    "passenger_in_bar = ax.bar(x - width/2, piyear, width, label='Passengers In', color = \"green\")\n",
    "passenger_out_bar = ax.bar(x + width/2, poyear, width, label='Passengers Out', color = \"red\")\n",
    "\n",
    "# Add some text for labels, title and custom x-axis tick labels, etc.\n",
    "ax.set_ylabel('Number of Passengers')\n",
    "ax.set_title('Passenger movement in Australia 2009-2020')\n",
    "ax.set_xticks(x)\n",
    "ax.set_xticklabels(labels)\n",
    "ax.legend()"
   ]
  },
  {
   "cell_type": "code",
   "execution_count": 50,
   "metadata": {},
   "outputs": [],
   "source": [
    "#filter data per month\n",
    "# jan passengers\n",
    "passengers_jan = passengers_df[passengers_df[\"Month\"].isin(['Jan009', 'Jan010', 'Jan011', 'Jan012', 'Jan013', 'Jan014', 'Jan015', 'Jan016', 'Jan017', 'Jan018', 'Jan019', 'Jan020'])]\n",
    "\n",
    "# feb passengers\n",
    "passengers_feb = passengers_df[passengers_df[\"Month\"].isin(['Feb009', 'Feb010', 'Feb011', 'Feb012', 'Feb013', 'Feb014', 'Feb015', 'Feb016', 'Feb017', 'Feb018', 'Feb019', 'Feb020'])]\n",
    "\n",
    "# mar passengers\n",
    "passengers_mar = passengers_df[passengers_df[\"Month\"].isin(['Mar009', 'Mar010', 'Mar011', 'Mar012', 'Mar013', 'Mar014', 'Mar015', 'Mar016', 'Mar017', 'Mar018', 'Mar019', 'Mar020'])]\n",
    "\n",
    "# apr passengers\n",
    "passengers_apr = passengers_df[passengers_df[\"Month\"].isin(['Apr009', 'Apr010', 'Apr011', 'Apr012', 'Apr013', 'Apr014', 'Apr015', 'Apr016', 'Apr017', 'Apr018', 'Apr019', 'Apr020'])]\n",
    "\n",
    "# may passengers\n",
    "passengers_may = passengers_df[passengers_df[\"Month\"].isin(['May009', 'May010', 'May011', 'May012', 'May013', 'May014', 'May015', 'May016', 'May017', 'May018', 'May019', 'May020'])]\n",
    "\n",
    "# jun passengers\n",
    "passengers_jun = passengers_df[passengers_df[\"Month\"].isin(['Jun009', 'Jun010', 'Jun011', 'Jun012', 'Jun013', 'Jun014', 'Jun015', 'Jun016', 'Jun017', 'Jun018', 'Jun019', 'Jun020'])]\n",
    "\n",
    "# jul passengers\n",
    "passengers_jul = passengers_df[passengers_df[\"Month\"].isin(['Jul009', 'Jul010', 'Jul011', 'Jul012', 'Jul013', 'Jul014', 'Jul015', 'Jul016', 'Jul017', 'Jul018', 'Jul019', 'Jul020'])]\n",
    "\n",
    "# aug passengers\n",
    "passengers_aug = passengers_df[passengers_df[\"Month\"].isin(['Aug009', 'Aug010', 'Aug011', 'Aug012', 'Aug013', 'Aug014', 'Aug015', 'Aug016', 'Aug017', 'Aug018', 'Aug019', 'Aug020'])]\n",
    "\n",
    "# sep passengers\n",
    "passengers_sep = passengers_df[passengers_df[\"Month\"].isin(['Sep009', 'Sep010', 'Sep011', 'Sep012', 'Sep013', 'Sep014', 'Sep015', 'Sep016', 'Sep017', 'Sep018', 'Sep019', 'Sep020'])]\n",
    "\n",
    "# oct passengers\n",
    "passengers_oct = passengers_df[passengers_df[\"Month\"].isin(['Oct009', 'Oct010', 'Oct011', 'Oct012', 'Oct013', 'Oct014', 'Oct015', 'Oct016', 'Oct017', 'Oct018', 'Oct019', 'Oct020'])]\n",
    "\n",
    "# nov passengers\n",
    "passengers_nov = passengers_df[passengers_df[\"Month\"].isin(['Nov009', 'Nov010', 'Nov011', 'Nov012', 'Nov013', 'Nov014', 'Nov015', 'Nov016', 'Nov017', 'Nov018', 'Nov019', 'Nov020'])]\n",
    "\n",
    "# dec passengers\n",
    "passengers_dec = passengers_df[passengers_df[\"Month\"].isin(['Dec009', 'Dec010', 'Dec011', 'Dec012', 'Dec013', 'Dec014', 'Dec015', 'Dec016', 'Dec017', 'Dec018', 'Dec019', 'Dec020'])]"
   ]
  },
  {
   "cell_type": "code",
   "execution_count": 51,
   "metadata": {},
   "outputs": [],
   "source": [
    "# Create dataframes for every year - summed with monthly passengers in and out\n",
    "# jan\n",
    "passengers_jan_grouped = passengers_jan.groupby([\"Month\"], sort = False)\n",
    "passengers_jan_grouped_in = passengers_jan_grouped[\"Passengers In\"].sum()\n",
    "passengers_jan_grouped_out = passengers_jan_grouped[\"Passengers In\"].sum()\n",
    "passengers_jan_df = pd.DataFrame({'Passengers In': passengers_jan_grouped_in,\n",
    "                   'Passengers Out': passengers_jan_grouped_out})\n",
    "\n",
    "# feb\n",
    "passengers_feb_grouped = passengers_feb.groupby([\"Month\"], sort = False)\n",
    "passengers_feb_grouped_in = passengers_feb_grouped[\"Passengers In\"].sum()\n",
    "passengers_feb_grouped_out = passengers_feb_grouped[\"Passengers In\"].sum()\n",
    "passengers_feb_df = pd.DataFrame({'Passengers In': passengers_feb_grouped_in,\n",
    "                   'Passengers Out': passengers_feb_grouped_out})\n",
    "\n",
    "# mar\n",
    "passengers_mar_grouped = passengers_mar.groupby([\"Month\"], sort = False)\n",
    "passengers_mar_grouped_in = passengers_mar_grouped[\"Passengers In\"].sum()\n",
    "passengers_mar_grouped_out = passengers_mar_grouped[\"Passengers In\"].sum()\n",
    "passengers_mar_df = pd.DataFrame({'Passengers In': passengers_mar_grouped_in,\n",
    "                   'Passengers Out': passengers_mar_grouped_out})\n",
    "\n",
    "# apr\n",
    "passengers_apr_grouped = passengers_apr.groupby([\"Month\"], sort = False)\n",
    "passengers_apr_grouped_in = passengers_apr_grouped[\"Passengers In\"].sum()\n",
    "passengers_apr_grouped_out = passengers_apr_grouped[\"Passengers In\"].sum()\n",
    "passengers_apr_df = pd.DataFrame({'Passengers In': passengers_apr_grouped_in,\n",
    "                   'Passengers Out': passengers_apr_grouped_out})\n",
    "\n",
    "# may\n",
    "passengers_may_grouped = passengers_may.groupby([\"Month\"], sort = False)\n",
    "passengers_may_grouped_in = passengers_may_grouped[\"Passengers In\"].sum()\n",
    "passengers_may_grouped_out = passengers_may_grouped[\"Passengers In\"].sum()\n",
    "passengers_may_df = pd.DataFrame({'Passengers In': passengers_may_grouped_in,\n",
    "                   'Passengers Out': passengers_may_grouped_out})\n",
    "\n",
    "# jun\n",
    "passengers_jun_grouped = passengers_jun.groupby([\"Month\"], sort = False)\n",
    "passengers_jun_grouped_in = passengers_jun_grouped[\"Passengers In\"].sum()\n",
    "passengers_jun_grouped_out = passengers_jun_grouped[\"Passengers In\"].sum()\n",
    "passengers_jun_df = pd.DataFrame({'Passengers In': passengers_jun_grouped_in,\n",
    "                   'Passengers Out': passengers_jun_grouped_out})\n",
    "\n",
    "# jul\n",
    "passengers_jul_grouped = passengers_jul.groupby([\"Month\"], sort = False)\n",
    "passengers_jul_grouped_in = passengers_jul_grouped[\"Passengers In\"].sum()\n",
    "passengers_jul_grouped_out = passengers_jul_grouped[\"Passengers In\"].sum()\n",
    "passengers_jul_df = pd.DataFrame({'Passengers In': passengers_jul_grouped_in,\n",
    "                   'Passengers Out': passengers_jul_grouped_out})\n",
    "\n",
    "# aug\n",
    "passengers_aug_grouped = passengers_aug.groupby([\"Month\"], sort = False)\n",
    "passengers_aug_grouped_in = passengers_aug_grouped[\"Passengers In\"].sum()\n",
    "passengers_aug_grouped_out = passengers_aug_grouped[\"Passengers In\"].sum()\n",
    "passengers_aug_df = pd.DataFrame({'Passengers In': passengers_aug_grouped_in,\n",
    "                   'Passengers Out': passengers_aug_grouped_out})\n",
    "\n",
    "# sep\n",
    "passengers_sep_grouped = passengers_sep.groupby([\"Month\"], sort = False)\n",
    "passengers_sep_grouped_in = passengers_sep_grouped[\"Passengers In\"].sum()\n",
    "passengers_sep_grouped_out = passengers_sep_grouped[\"Passengers In\"].sum()\n",
    "passengers_sep_df = pd.DataFrame({'Passengers In': passengers_sep_grouped_in,\n",
    "                   'Passengers Out': passengers_sep_grouped_out})\n",
    "\n",
    "# oct\n",
    "passengers_oct_grouped = passengers_oct.groupby([\"Month\"], sort = False)\n",
    "passengers_oct_grouped_in = passengers_oct_grouped[\"Passengers In\"].sum()\n",
    "passengers_oct_grouped_out = passengers_oct_grouped[\"Passengers In\"].sum()\n",
    "passengers_oct_df = pd.DataFrame({'Passengers In': passengers_oct_grouped_in,\n",
    "                   'Passengers Out': passengers_oct_grouped_out})\n",
    "\n",
    "# nov\n",
    "passengers_nov_grouped = passengers_nov.groupby([\"Month\"], sort = False)\n",
    "passengers_nov_grouped_in = passengers_nov_grouped[\"Passengers In\"].sum()\n",
    "passengers_nov_grouped_out = passengers_nov_grouped[\"Passengers In\"].sum()\n",
    "passengers_nov_df = pd.DataFrame({'Passengers In': passengers_nov_grouped_in,\n",
    "                   'Passengers Out': passengers_nov_grouped_out})\n",
    "\n",
    "# dec\n",
    "passengers_dec_grouped = passengers_dec.groupby([\"Month\"], sort = False)\n",
    "passengers_dec_grouped_in = passengers_dec_grouped[\"Passengers In\"].sum()\n",
    "passengers_dec_grouped_out = passengers_dec_grouped[\"Passengers In\"].sum()\n",
    "passengers_dec_df = pd.DataFrame({'Passengers In': passengers_dec_grouped_in,\n",
    "                   'Passengers Out': passengers_dec_grouped_out})"
   ]
  },
  {
   "cell_type": "code",
   "execution_count": 83,
   "metadata": {},
   "outputs": [
    {
     "data": {
      "text/plain": [
       "<matplotlib.legend.Legend at 0x2b7325dde50>"
      ]
     },
     "execution_count": 83,
     "metadata": {},
     "output_type": "execute_result"
    },
    {
     "data": {
      "image/png": "[encoded data removed]",
      "text/plain": [
       "<Figure size 576x216 with 1 Axes>"
      ]
     },
     "metadata": {
      "needs_background": "light"
     },
     "output_type": "display_data"
    }
   ],
   "source": [
    "# choose values to plot - jan\n",
    "labels = ['2009', '2010', '2011', '2012', '2013', '2014', '2015', '2016', '2017', '2018', '2019', '2020']\n",
    "pijan = passengers_jan_df['Passengers In']\n",
    "pojan = passengers_jan_df['Passengers Out']\n",
    "\n",
    "# the label locations\n",
    "x = np.arange(len(labels))\n",
    "# the width of the bars  \n",
    "width = 0.35  \n",
    "\n",
    "#plot graph\n",
    "fig, ax = plt.subplots(figsize=(8,3))\n",
    "passenger_in_bar = ax.bar(x - width/2, pijan, width, label='Passengers In', color = \"green\")\n",
    "passenger_out_bar = ax.bar(x + width/2, pojan, width, label='Passengers Out', color = \"red\")\n",
    "\n",
    "# Add some text for labels, title and custom x-axis tick labels, etc.\n",
    "ax.set_ylabel('Number of Passengers')\n",
    "ax.set_title('Australia Passenger movement in January 2009-2020')\n",
    "ax.set_xticks(x)\n",
    "ax.set_xticklabels(labels)\n",
    "ax.legend()"
   ]
  },
  {
   "cell_type": "code",
   "execution_count": 84,
   "metadata": {},
   "outputs": [
    {
     "data": {
      "text/plain": [
       "<matplotlib.legend.Legend at 0x2b73298a190>"
      ]
     },
     "execution_count": 84,
     "metadata": {},
     "output_type": "execute_result"
    },
    {
     "data": {
      "image/png": "[encoded data removed]",
      "text/plain": [
       "<Figure size 576x216 with 1 Axes>"
      ]
     },
     "metadata": {
      "needs_background": "light"
     },
     "output_type": "display_data"
    }
   ],
   "source": [
    "# choose values to plot - feb\n",
    "labels = ['2009', '2010', '2011', '2012', '2013', '2014', '2015', '2016', '2017', '2018', '2019', '2020']\n",
    "pifeb = passengers_feb_df['Passengers In']\n",
    "pofeb = passengers_feb_df['Passengers Out']\n",
    "\n",
    "# the label locations\n",
    "x = np.arange(len(labels))\n",
    "# the width of the bars  \n",
    "width = 0.35  \n",
    "\n",
    "#plot graph\n",
    "fig, ax = plt.subplots(figsize=(8,3))\n",
    "passenger_in_bar = ax.bar(x - width/2, pifeb, width, label='Passengers In', color = \"green\")\n",
    "passenger_out_bar = ax.bar(x + width/2, pofeb, width, label='Passengers Out', color = \"red\")\n",
    "\n",
    "# Add some text for labels, title and custom x-axis tick labels, etc.\n",
    "ax.set_ylabel('Number of Passengers')\n",
    "ax.set_title('Australia Passenger movement in February 2009-2020')\n",
    "ax.set_xticks(x)\n",
    "ax.set_xticklabels(labels)\n",
    "ax.legend()"
   ]
  },
  {
   "cell_type": "code",
   "execution_count": 85,
   "metadata": {},
   "outputs": [
    {
     "data": {
      "text/plain": [
       "<matplotlib.legend.Legend at 0x2b732a37160>"
      ]
     },
     "execution_count": 85,
     "metadata": {},
     "output_type": "execute_result"
    },
    {
     "data": {
      "image/png": "[encoded data removed]",
      "text/plain": [
       "<Figure size 576x216 with 1 Axes>"
      ]
     },
     "metadata": {
      "needs_background": "light"
     },
     "output_type": "display_data"
    }
   ],
   "source": [
    "# choose values to plot - mar\n",
    "labels = ['2009', '2010', '2011', '2012', '2013', '2014', '2015', '2016', '2017', '2018', '2019', '2020']\n",
    "pimar = passengers_mar_df['Passengers In']\n",
    "pomar = passengers_mar_df['Passengers Out']\n",
    "\n",
    "# the label locations\n",
    "x = np.arange(len(labels))\n",
    "# the width of the bars  \n",
    "width = 0.35  \n",
    "\n",
    "#plot graph\n",
    "fig, ax = plt.subplots(figsize=(8,3))\n",
    "passenger_in_bar = ax.bar(x - width/2, pimar, width, label='Passengers In', color = \"green\")\n",
    "passenger_out_bar = ax.bar(x + width/2, pomar, width, label='Passengers Out', color = \"red\")\n",
    "\n",
    "# Add some text for labels, title and custom x-axis tick labels, etc.\n",
    "ax.set_ylabel('Number of Passengers')\n",
    "ax.set_title('Australia Passenger movement in March 2009-2020')\n",
    "ax.set_xticks(x)\n",
    "ax.set_xticklabels(labels)\n",
    "ax.legend()"
   ]
  },
  {
   "cell_type": "code",
   "execution_count": 86,
   "metadata": {},
   "outputs": [
    {
     "data": {
      "text/plain": [
       "<matplotlib.legend.Legend at 0x2b732ae2d30>"
      ]
     },
     "execution_count": 86,
     "metadata": {},
     "output_type": "execute_result"
    },
    {
     "data": {
      "image/png": "[encoded data removed]",
      "text/plain": [
       "<Figure size 576x216 with 1 Axes>"
      ]
     },
     "metadata": {
      "needs_background": "light"
     },
     "output_type": "display_data"
    }
   ],
   "source": [
    "# choose values to plot - apr\n",
    "labels = ['2009', '2010', '2011', '2012', '2013', '2014', '2015', '2016', '2017', '2018', '2019', '2020']\n",
    "piapr = passengers_apr_df['Passengers In']\n",
    "poapr = passengers_apr_df['Passengers Out']\n",
    "\n",
    "# the label locations\n",
    "x = np.arange(len(labels))\n",
    "# the width of the bars  \n",
    "width = 0.35  \n",
    "\n",
    "#plot graph\n",
    "fig, ax = plt.subplots(figsize=(8,3))\n",
    "passenger_in_bar = ax.bar(x - width/2, piapr, width, label='Passengers In', color = \"green\")\n",
    "passenger_out_bar = ax.bar(x + width/2, poapr, width, label='Passengers Out', color = \"red\")\n",
    "\n",
    "# Add some text for labels, title and custom x-axis tick labels, etc.\n",
    "ax.set_ylabel('Number of Passengers')\n",
    "ax.set_title('Australia Passenger movement in April 2009-2020')\n",
    "ax.set_xticks(x)\n",
    "ax.set_xticklabels(labels)\n",
    "ax.legend()"
   ]
  },
  {
   "cell_type": "code",
   "execution_count": null,
   "metadata": {},
   "outputs": [],
   "source": []
  },
  {
   "cell_type": "code",
   "execution_count": 87,
   "metadata": {},
   "outputs": [
    {
     "data": {
      "text/plain": [
       "<matplotlib.legend.Legend at 0x2b732b95070>"
      ]
     },
     "execution_count": 87,
     "metadata": {},
     "output_type": "execute_result"
    },
    {
     "data": {
      "image/png": "[encoded data removed]",
      "text/plain": [
       "<Figure size 576x216 with 1 Axes>"
      ]
     },
     "metadata": {
      "needs_background": "light"
     },
     "output_type": "display_data"
    }
   ],
   "source": [
    "# choose values to plot - may\n",
    "labels = ['2009', '2010', '2011', '2012', '2013', '2014', '2015', '2016', '2017', '2018', '2019', '2020']\n",
    "pimay = passengers_may_df['Passengers In']\n",
    "pomay = passengers_may_df['Passengers Out']\n",
    "\n",
    "# the label locations\n",
    "x = np.arange(len(labels))\n",
    "# the width of the bars  \n",
    "width = 0.35  \n",
    "\n",
    "#plot graph\n",
    "fig, ax = plt.subplots(figsize=(8,3))\n",
    "passenger_in_bar = ax.bar(x - width/2, pimay, width, label='Passengers In', color = \"green\")\n",
    "passenger_out_bar = ax.bar(x + width/2, pomay, width, label='Passengers Out', color = \"red\")\n",
    "\n",
    "# Add some text for labels, title and custom x-axis tick labels, etc.\n",
    "ax.set_ylabel('Number of Passengers')\n",
    "ax.set_title('Australia Passenger movement in May 2009-2020')\n",
    "ax.set_xticks(x)\n",
    "ax.set_xticklabels(labels)\n",
    "ax.legend()"
   ]
  },
  {
   "cell_type": "code",
   "execution_count": 88,
   "metadata": {},
   "outputs": [
    {
     "data": {
      "text/plain": [
       "<matplotlib.legend.Legend at 0x2b732c3ec40>"
      ]
     },
     "execution_count": 88,
     "metadata": {},
     "output_type": "execute_result"
    },
    {
     "data": {
      "image/png": "[encoded data removed]",
      "text/plain": [
       "<Figure size 576x216 with 1 Axes>"
      ]
     },
     "metadata": {
      "needs_background": "light"
     },
     "output_type": "display_data"
    }
   ],
   "source": [
    "# choose values to plot - jun\n",
    "labels = ['2009', '2010', '2011', '2012', '2013', '2014', '2015', '2016', '2017', '2018', '2019', '2020']\n",
    "pijun = passengers_jun_df['Passengers In']\n",
    "pojun = passengers_jun_df['Passengers Out']\n",
    "\n",
    "# the label locations\n",
    "x = np.arange(len(labels))\n",
    "# the width of the bars  \n",
    "width = 0.35  \n",
    "\n",
    "#plot graph\n",
    "fig, ax = plt.subplots(figsize=(8,3))\n",
    "passenger_in_bar = ax.bar(x - width/2, pijun, width, label='Passengers In', color = \"green\")\n",
    "passenger_out_bar = ax.bar(x + width/2, pojun, width, label='Passengers Out', color = \"red\")\n",
    "\n",
    "# Add some text for labels, title and custom x-axis tick labels, etc.\n",
    "ax.set_ylabel('Number of Passengers')\n",
    "ax.set_title('Australia Passenger movement in June 2009-2020')\n",
    "ax.set_xticks(x)\n",
    "ax.set_xticklabels(labels)\n",
    "ax.legend()"
   ]
  },
  {
   "cell_type": "code",
   "execution_count": 89,
   "metadata": {},
   "outputs": [
    {
     "data": {
      "text/plain": [
       "<matplotlib.legend.Legend at 0x2b732ce87f0>"
      ]
     },
     "execution_count": 89,
     "metadata": {},
     "output_type": "execute_result"
    },
    {
     "data": {
      "image/png": "[encoded data removed]",
      "text/plain": [
       "<Figure size 576x216 with 1 Axes>"
      ]
     },
     "metadata": {
      "needs_background": "light"
     },
     "output_type": "display_data"
    }
   ],
   "source": [
    "# choose values to plot - jul\n",
    "labels = ['2009', '2010', '2011', '2012', '2013', '2014', '2015', '2016', '2017', '2018', '2019', '2020']\n",
    "pijul = passengers_jul_df['Passengers In']\n",
    "pojul = passengers_jul_df['Passengers Out']\n",
    "\n",
    "# the label locations\n",
    "x = np.arange(len(labels))\n",
    "# the width of the bars  \n",
    "width = 0.35  \n",
    "\n",
    "#plot graph\n",
    "fig, ax = plt.subplots(figsize=(8,3))\n",
    "passenger_in_bar = ax.bar(x - width/2, pijul, width, label='Passengers In', color = \"green\")\n",
    "passenger_out_bar = ax.bar(x + width/2, pojul, width, label='Passengers Out', color = \"red\")\n",
    "\n",
    "# Add some text for labels, title and custom x-axis tick labels, etc.\n",
    "ax.set_ylabel('Number of Passengers')\n",
    "ax.set_title('Australia Passenger movement in July 2009-2020')\n",
    "ax.set_xticks(x)\n",
    "ax.set_xticklabels(labels)\n",
    "ax.legend()"
   ]
  },
  {
   "cell_type": "code",
   "execution_count": 90,
   "metadata": {},
   "outputs": [
    {
     "data": {
      "text/plain": [
       "<matplotlib.legend.Legend at 0x2b732d8cca0>"
      ]
     },
     "execution_count": 90,
     "metadata": {},
     "output_type": "execute_result"
    },
    {
     "data": {
      "image/png": "[encoded data removed]",
      "text/plain": [
       "<Figure size 576x216 with 1 Axes>"
      ]
     },
     "metadata": {
      "needs_background": "light"
     },
     "output_type": "display_data"
    }
   ],
   "source": [
    "# choose values to plot - aug\n",
    "labels = ['2009', '2010', '2011', '2012', '2013', '2014', '2015', '2016', '2017', '2018', '2019', '2020']\n",
    "piaug = passengers_aug_df['Passengers In']\n",
    "poaug = passengers_aug_df['Passengers Out']\n",
    "\n",
    "# the label locations\n",
    "x = np.arange(len(labels))\n",
    "# the width of the bars  \n",
    "width = 0.35  \n",
    "\n",
    "#plot graph\n",
    "fig, ax = plt.subplots(figsize=(8,3))\n",
    "passenger_in_bar = ax.bar(x - width/2, piaug, width, label='Passengers In', color = \"green\")\n",
    "passenger_out_bar = ax.bar(x + width/2, poaug, width, label='Passengers Out', color = \"red\")\n",
    "\n",
    "# Add some text for labels, title and custom x-axis tick labels, etc.\n",
    "ax.set_ylabel('Number of Passengers')\n",
    "ax.set_title('Australia Passenger movement in August 2009-2020')\n",
    "ax.set_xticks(x)\n",
    "ax.set_xticklabels(labels)\n",
    "ax.legend()"
   ]
  },
  {
   "cell_type": "code",
   "execution_count": 91,
   "metadata": {},
   "outputs": [
    {
     "data": {
      "text/plain": [
       "<matplotlib.legend.Legend at 0x2b732332820>"
      ]
     },
     "execution_count": 91,
     "metadata": {},
     "output_type": "execute_result"
    },
    {
     "data": {
      "image/png": "[encoded data removed]",
      "text/plain": [
       "<Figure size 576x216 with 1 Axes>"
      ]
     },
     "metadata": {
      "needs_background": "light"
     },
     "output_type": "display_data"
    }
   ],
   "source": [
    "# choose values to plot - sep\n",
    "labels = ['2009', '2010', '2011', '2012', '2013', '2014', '2015', '2016', '2017', '2018', '2019', '2020']\n",
    "pisep = passengers_sep_df['Passengers In']\n",
    "posep = passengers_sep_df['Passengers Out']\n",
    "\n",
    "# the label locations\n",
    "x = np.arange(len(labels))\n",
    "# the width of the bars  \n",
    "width = 0.35  \n",
    "\n",
    "#plot graph\n",
    "fig, ax = plt.subplots(figsize=(8,3))\n",
    "passenger_in_bar = ax.bar(x - width/2, pisep, width, label='Passengers In', color = \"green\")\n",
    "passenger_out_bar = ax.bar(x + width/2, posep, width, label='Passengers Out', color = \"red\")\n",
    "\n",
    "# Add some text for labels, title and custom x-axis tick labels, etc.\n",
    "ax.set_ylabel('Number of Passengers')\n",
    "ax.set_title('Australia Passenger movement in September 2009-2020')\n",
    "ax.set_xticks(x)\n",
    "ax.set_xticklabels(labels)\n",
    "ax.legend()"
   ]
  },
  {
   "cell_type": "code",
   "execution_count": 92,
   "metadata": {},
   "outputs": [
    {
     "data": {
      "text/plain": [
       "<matplotlib.legend.Legend at 0x2b733e82790>"
      ]
     },
     "execution_count": 92,
     "metadata": {},
     "output_type": "execute_result"
    },
    {
     "data": {
      "image/png": "[encoded data removed]",
      "text/plain": [
       "<Figure size 576x216 with 1 Axes>"
      ]
     },
     "metadata": {
      "needs_background": "light"
     },
     "output_type": "display_data"
    }
   ],
   "source": [
    "# choose values to plot - oct\n",
    "labels = ['2009', '2010', '2011', '2012', '2013', '2014', '2015', '2016', '2017', '2018', '2019', '2020']\n",
    "pioct = passengers_oct_df['Passengers In']\n",
    "pooct = passengers_oct_df['Passengers Out']\n",
    "\n",
    "# the label locations\n",
    "x = np.arange(len(labels))\n",
    "# the width of the bars  \n",
    "width = 0.35  \n",
    "\n",
    "#plot graph\n",
    "fig, ax = plt.subplots(figsize=(8,3))\n",
    "passenger_in_bar = ax.bar(x - width/2, pioct, width, label='Passengers In', color = \"green\")\n",
    "passenger_out_bar = ax.bar(x + width/2, pooct, width, label='Passengers Out', color = \"red\")\n",
    "\n",
    "# Add some text for labels, title and custom x-axis tick labels, etc.\n",
    "ax.set_ylabel('Number of Passengers')\n",
    "ax.set_title('Australia Passenger movement in October 2009-2020')\n",
    "ax.set_xticks(x)\n",
    "ax.set_xticklabels(labels)\n",
    "ax.legend()"
   ]
  },
  {
   "cell_type": "code",
   "execution_count": 93,
   "metadata": {},
   "outputs": [
    {
     "data": {
      "text/plain": [
       "<matplotlib.legend.Legend at 0x2b733f2aac0>"
      ]
     },
     "execution_count": 93,
     "metadata": {},
     "output_type": "execute_result"
    },
    {
     "data": {
      "image/png": "[encoded data removed]",
      "text/plain": [
       "<Figure size 576x216 with 1 Axes>"
      ]
     },
     "metadata": {
      "needs_background": "light"
     },
     "output_type": "display_data"
    }
   ],
   "source": [
    "# choose values to plot - nov\n",
    "labels = ['2009', '2010', '2011', '2012', '2013', '2014', '2015', '2016', '2017', '2018', '2019', '2020']\n",
    "pinov = passengers_nov_df['Passengers In']\n",
    "ponov = passengers_nov_df['Passengers Out']\n",
    "\n",
    "# the label locations\n",
    "x = np.arange(len(labels))\n",
    "# the width of the bars  \n",
    "width = 0.35  \n",
    "\n",
    "#plot graph\n",
    "fig, ax = plt.subplots(figsize=(8,3))\n",
    "passenger_in_bar = ax.bar(x - width/2, pinov, width, label='Passengers In', color = \"green\")\n",
    "passenger_out_bar = ax.bar(x + width/2, ponov, width, label='Passengers Out', color = \"red\")\n",
    "\n",
    "# Add some text for labels, title and custom x-axis tick labels, etc.\n",
    "ax.set_ylabel('Number of Passengers')\n",
    "ax.set_title('Australia Passenger movement in November 2009-2020')\n",
    "ax.set_xticks(x)\n",
    "ax.set_xticklabels(labels)\n",
    "ax.legend()"
   ]
  },
  {
   "cell_type": "code",
   "execution_count": 95,
   "metadata": {},
   "outputs": [
    {
     "data": {
      "text/plain": [
       "<matplotlib.legend.Legend at 0x2b734022640>"
      ]
     },
     "execution_count": 95,
     "metadata": {},
     "output_type": "execute_result"
    },
    {
     "data": {
      "image/png": "[encoded data removed]",
      "text/plain": [
       "<Figure size 576x216 with 1 Axes>"
      ]
     },
     "metadata": {
      "needs_background": "light"
     },
     "output_type": "display_data"
    }
   ],
   "source": [
    "# choose values to plot - dec\n",
    "labels = ['2009', '2010', '2011', '2012', '2013', '2014', '2015', '2016', '2017', '2018', '2019']\n",
    "pidec = passengers_dec_df['Passengers In']\n",
    "podec = passengers_dec_df['Passengers Out']\n",
    "\n",
    "# the label locations\n",
    "x = np.arange(len(labels))\n",
    "# the width of the bars  \n",
    "width = 0.35  \n",
    "\n",
    "#plot graph\n",
    "fig, ax = plt.subplots(figsize=(8,3))\n",
    "passenger_in_bar = ax.bar(x - width/2, pidec, width, label='Passengers In', color = \"green\")\n",
    "passenger_out_bar = ax.bar(x + width/2, podec, width, label='Passengers Out', color = \"red\")\n",
    "\n",
    "# Add some text for labels, title and custom x-axis tick labels, etc.\n",
    "ax.set_ylabel('Number of Passengers')\n",
    "ax.set_title('Australia Passenger movement in December 2009-2020')\n",
    "ax.set_xticks(x)\n",
    "ax.set_xticklabels(labels)\n",
    "ax.legend()"
   ]
  },
  {
   "cell_type": "code",
   "execution_count": 47,
   "metadata": {},
   "outputs": [],
   "source": [
    "# create data frame by year and number of passengers in/out (including 2020)\n",
    "passenger_in_year_grouped = passengers_df.groupby([\"Year\"])[\"Passengers In\"].sum()\n",
    "passenger_out_year_grouped = passengers_df.groupby([\"Year\"])[\"Passengers Out\"].sum()\n",
    "passenger_year_df = pd.DataFrame({'Passengers In': passenger_in_year_grouped,\n",
    "                   'Passengers Out': passenger_out_year_grouped})\n",
    "passenger_year_df = passenger_year_df.reset_index()"
   ]
  },
  {
   "cell_type": "code",
   "execution_count": 48,
   "metadata": {},
   "outputs": [],
   "source": [
    "# create data frame by year and number of passengers in/out (excluding 2020)\n",
    "passenger_year_19_df = passenger_year_df[~passenger_year_df[\"Year\"].isin(['2020'])]"
   ]
  },
  {
   "cell_type": "code",
   "execution_count": 49,
   "metadata": {},
   "outputs": [
    {
     "data": {
      "text/plain": [
       "Text(0, 0.5, 'Number of Passengers')"
      ]
     },
     "execution_count": 49,
     "metadata": {},
     "output_type": "execute_result"
    },
    {
     "data": {
      "image/png": "[encoded data removed]",
      "text/plain": [
       "<Figure size 432x288 with 1 Axes>"
      ]
     },
     "metadata": {
      "needs_background": "light"
     },
     "output_type": "display_data"
    }
   ],
   "source": [
    "# Generate a scatter plot of year versus passengers in\n",
    "year = passenger_year_19_df.iloc[:,0]\n",
    "passengers_in_2009 = passenger_year_19_df.iloc[:,1]\n",
    "plt.scatter(year,passengers_in_2009)\n",
    "plt.xticks(year, rotation=90)\n",
    "plt.title(\"Number of Passengers coming in to Australia 2009-2019\")\n",
    "plt.xlabel('Year')\n",
    "plt.ylabel('Number of Passengers')"
   ]
  },
  {
   "cell_type": "code",
   "execution_count": 50,
   "metadata": {},
   "outputs": [
    {
     "data": {
      "text/plain": [
       "Text(0, 0.5, 'Number of Passengers')"
      ]
     },
     "execution_count": 50,
     "metadata": {},
     "output_type": "execute_result"
    },
    {
     "data": {
      "image/png": "[encoded data removed]",
      "text/plain": [
       "<Figure size 432x288 with 1 Axes>"
      ]
     },
     "metadata": {
      "needs_background": "light"
     },
     "output_type": "display_data"
    }
   ],
   "source": [
    " # Perform a linear regression on year versus violent crime rate\n",
    "vc_slope, vc_int, vc_r, vc_p, vc_std_err = stats.linregress(year, passengers_in_2009)\n",
    "\n",
    " # Create equation of line to calculate predicted violent crime rate\n",
    "vc_fit = vc_slope * year + vc_int\n",
    "\n",
    "# Plot the linear model on top of scatter plot \n",
    "year = passenger_year_19_df.iloc[:,0]\n",
    "passengers_in_2009 = passenger_year_19_df.iloc[:,1]\n",
    "plt.scatter(year,passengers_in_2009)\n",
    "plt.plot(year,vc_fit,\"--\")\n",
    "plt.xticks(year, rotation=90)\n",
    "plt.title(\"Number of Passengers coming in to Australia 2009-2019\")\n",
    "plt.xlabel('Year')\n",
    "plt.ylabel('Number of Passengers')"
   ]
  },
  {
   "cell_type": "code",
   "execution_count": 51,
   "metadata": {},
   "outputs": [
    {
     "data": {
      "text/plain": [
       "22586277.76"
      ]
     },
     "execution_count": 51,
     "metadata": {},
     "output_type": "execute_result"
    }
   ],
   "source": [
    "# Calculate the incoming passengers for 2020\n",
    "year = 2020\n",
    "year_2020_predict_in = round(vc_slope * year + vc_int,2)\n",
    "year_2020_predict_in"
   ]
  },
  {
   "cell_type": "code",
   "execution_count": 54,
   "metadata": {},
   "outputs": [],
   "source": [
    "# add predicted 2020 values to passenger_year_19_df\n",
    "new_row = {'Year': 2020, 'Passengers In': year_2020_predict_in}\n",
    "#append row to the dataframe\n",
    "passenger_year_19_df = passenger_year_19_df.append(new_row, ignore_index=True)"
   ]
  },
  {
   "cell_type": "code",
   "execution_count": 55,
   "metadata": {},
   "outputs": [
    {
     "data": {
      "text/plain": [
       "Text(0, 0.5, 'Total Passengers In')"
      ]
     },
     "execution_count": 55,
     "metadata": {},
     "output_type": "execute_result"
    },
    {
     "data": {
      "image/png": "[encoded data removed]",
      "text/plain": [
       "<Figure size 432x288 with 1 Axes>"
      ]
     },
     "metadata": {
      "needs_background": "light"
     },
     "output_type": "display_data"
    }
   ],
   "source": [
    "# plot graph showing overall expected vs real 2020 values - incoming\n",
    "x_year_predict = passenger_year_19_df[\"Year\"]\n",
    "y_year_act = passenger_year_df[\"Passengers In\"]\n",
    "y_year_pred = passenger_year_19_df[\"Passengers In\"]\n",
    "plt.plot(x_year_predict, y_year_act, label='Actual', color='blue')\n",
    "plt.plot(x_year_predict, y_year_pred, label='Forecasted', color='green')\n",
    "plt.rcParams[\"figure.figsize\"] = (12,7)\n",
    "plt.legend()\n",
    "plt.title(\"2009-2020 Actual vs Forecasted Incoming Passengers\")\n",
    "plt.xlabel(\"Year\")\n",
    "plt.ylabel(\"Total Passengers In\")"
   ]
  }
 ],
 "metadata": {
  "kernelspec": {
   "display_name": "Python 3",
   "language": "python",
   "name": "python3"
  },
  "language_info": {
   "codemirror_mode": {
    "name": "ipython",
    "version": 3
   },
   "file_extension": ".py",
   "mimetype": "text/x-python",
   "name": "python",
   "nbconvert_exporter": "python",
   "pygments_lexer": "ipython3",
   "version": "3.8.5"
  }
 },
 "nbformat": 4,
 "nbformat_minor": 4
}
